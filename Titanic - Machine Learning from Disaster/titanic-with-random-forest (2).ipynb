{
 "cells": [
  {
   "cell_type": "code",
   "execution_count": 1,
   "id": "d4a24527",
   "metadata": {
    "_cell_guid": "b1076dfc-b9ad-4769-8c92-a6c4dae69d19",
    "_uuid": "8f2839f25d086af736a60e9eeb907d3b93b6e0e5",
    "execution": {
     "iopub.execute_input": "2022-04-02T16:30:47.241285Z",
     "iopub.status.busy": "2022-04-02T16:30:47.239510Z",
     "iopub.status.idle": "2022-04-02T16:30:48.297087Z",
     "shell.execute_reply": "2022-04-02T16:30:48.297824Z",
     "shell.execute_reply.started": "2022-04-02T16:24:15.630372Z"
    },
    "papermill": {
     "duration": 1.120807,
     "end_time": "2022-04-02T16:30:48.298232",
     "exception": false,
     "start_time": "2022-04-02T16:30:47.177425",
     "status": "completed"
    },
    "tags": []
   },
   "outputs": [
    {
     "name": "stdout",
     "output_type": "stream",
     "text": [
      "/kaggle/input/titanic/train.csv\n",
      "/kaggle/input/titanic/test.csv\n",
      "/kaggle/input/titanic/gender_submission.csv\n"
     ]
    }
   ],
   "source": [
    "# This Python 3 environment comes with many helpful analytics libraries installed\n",
    "# It is defined by the kaggle/python Docker image: https://github.com/kaggle/docker-python\n",
    "# For example, here's several helpful packages to load\n",
    "\n",
    "import numpy as np # linear algebra\n",
    "import pandas as pd # data processing, CSV file I/O (e.g. pd.read_csv)\n",
    "import seaborn as sns\n",
    "import matplotlib.pyplot as plt\n",
    "%matplotlib inline\n",
    "\n",
    "# Input data files are available in the read-only \"../input/\" directory\n",
    "# For example, running this (by clicking run or pressing Shift+Enter) will list all files under the input directory\n",
    "\n",
    "import os\n",
    "for dirname, _, filenames in os.walk('/kaggle/input'):\n",
    "    for filename in filenames:\n",
    "        print(os.path.join(dirname, filename))\n",
    "\n",
    "# You can write up to 20GB to the current directory (/kaggle/working/) that gets preserved as output when you create a version using \"Save & Run All\" \n",
    "# You can also write temporary files to /kaggle/temp/, but they won't be saved outside of the current session"
   ]
  },
  {
   "cell_type": "code",
   "execution_count": 2,
   "id": "2b98730e",
   "metadata": {
    "execution": {
     "iopub.execute_input": "2022-04-02T16:30:48.415393Z",
     "iopub.status.busy": "2022-04-02T16:30:48.414741Z",
     "iopub.status.idle": "2022-04-02T16:30:48.453807Z",
     "shell.execute_reply": "2022-04-02T16:30:48.454366Z",
     "shell.execute_reply.started": "2022-04-02T16:24:15.677503Z"
    },
    "papermill": {
     "duration": 0.100316,
     "end_time": "2022-04-02T16:30:48.454597",
     "exception": false,
     "start_time": "2022-04-02T16:30:48.354281",
     "status": "completed"
    },
    "tags": []
   },
   "outputs": [
    {
     "data": {
      "text/html": [
       "<div>\n",
       "<style scoped>\n",
       "    .dataframe tbody tr th:only-of-type {\n",
       "        vertical-align: middle;\n",
       "    }\n",
       "\n",
       "    .dataframe tbody tr th {\n",
       "        vertical-align: top;\n",
       "    }\n",
       "\n",
       "    .dataframe thead th {\n",
       "        text-align: right;\n",
       "    }\n",
       "</style>\n",
       "<table border=\"1\" class=\"dataframe\">\n",
       "  <thead>\n",
       "    <tr style=\"text-align: right;\">\n",
       "      <th></th>\n",
       "      <th>PassengerId</th>\n",
       "      <th>Survived</th>\n",
       "      <th>Pclass</th>\n",
       "      <th>Name</th>\n",
       "      <th>Sex</th>\n",
       "      <th>Age</th>\n",
       "      <th>SibSp</th>\n",
       "      <th>Parch</th>\n",
       "      <th>Ticket</th>\n",
       "      <th>Fare</th>\n",
       "      <th>Cabin</th>\n",
       "      <th>Embarked</th>\n",
       "    </tr>\n",
       "  </thead>\n",
       "  <tbody>\n",
       "    <tr>\n",
       "      <th>0</th>\n",
       "      <td>1</td>\n",
       "      <td>0</td>\n",
       "      <td>3</td>\n",
       "      <td>Braund, Mr. Owen Harris</td>\n",
       "      <td>male</td>\n",
       "      <td>22.0</td>\n",
       "      <td>1</td>\n",
       "      <td>0</td>\n",
       "      <td>A/5 21171</td>\n",
       "      <td>7.2500</td>\n",
       "      <td>NaN</td>\n",
       "      <td>S</td>\n",
       "    </tr>\n",
       "    <tr>\n",
       "      <th>1</th>\n",
       "      <td>2</td>\n",
       "      <td>1</td>\n",
       "      <td>1</td>\n",
       "      <td>Cumings, Mrs. John Bradley (Florence Briggs Th...</td>\n",
       "      <td>female</td>\n",
       "      <td>38.0</td>\n",
       "      <td>1</td>\n",
       "      <td>0</td>\n",
       "      <td>PC 17599</td>\n",
       "      <td>71.2833</td>\n",
       "      <td>C85</td>\n",
       "      <td>C</td>\n",
       "    </tr>\n",
       "    <tr>\n",
       "      <th>2</th>\n",
       "      <td>3</td>\n",
       "      <td>1</td>\n",
       "      <td>3</td>\n",
       "      <td>Heikkinen, Miss. Laina</td>\n",
       "      <td>female</td>\n",
       "      <td>26.0</td>\n",
       "      <td>0</td>\n",
       "      <td>0</td>\n",
       "      <td>STON/O2. 3101282</td>\n",
       "      <td>7.9250</td>\n",
       "      <td>NaN</td>\n",
       "      <td>S</td>\n",
       "    </tr>\n",
       "    <tr>\n",
       "      <th>3</th>\n",
       "      <td>4</td>\n",
       "      <td>1</td>\n",
       "      <td>1</td>\n",
       "      <td>Futrelle, Mrs. Jacques Heath (Lily May Peel)</td>\n",
       "      <td>female</td>\n",
       "      <td>35.0</td>\n",
       "      <td>1</td>\n",
       "      <td>0</td>\n",
       "      <td>113803</td>\n",
       "      <td>53.1000</td>\n",
       "      <td>C123</td>\n",
       "      <td>S</td>\n",
       "    </tr>\n",
       "    <tr>\n",
       "      <th>4</th>\n",
       "      <td>5</td>\n",
       "      <td>0</td>\n",
       "      <td>3</td>\n",
       "      <td>Allen, Mr. William Henry</td>\n",
       "      <td>male</td>\n",
       "      <td>35.0</td>\n",
       "      <td>0</td>\n",
       "      <td>0</td>\n",
       "      <td>373450</td>\n",
       "      <td>8.0500</td>\n",
       "      <td>NaN</td>\n",
       "      <td>S</td>\n",
       "    </tr>\n",
       "  </tbody>\n",
       "</table>\n",
       "</div>"
      ],
      "text/plain": [
       "   PassengerId  Survived  Pclass  \\\n",
       "0            1         0       3   \n",
       "1            2         1       1   \n",
       "2            3         1       3   \n",
       "3            4         1       1   \n",
       "4            5         0       3   \n",
       "\n",
       "                                                Name     Sex   Age  SibSp  \\\n",
       "0                            Braund, Mr. Owen Harris    male  22.0      1   \n",
       "1  Cumings, Mrs. John Bradley (Florence Briggs Th...  female  38.0      1   \n",
       "2                             Heikkinen, Miss. Laina  female  26.0      0   \n",
       "3       Futrelle, Mrs. Jacques Heath (Lily May Peel)  female  35.0      1   \n",
       "4                           Allen, Mr. William Henry    male  35.0      0   \n",
       "\n",
       "   Parch            Ticket     Fare Cabin Embarked  \n",
       "0      0         A/5 21171   7.2500   NaN        S  \n",
       "1      0          PC 17599  71.2833   C85        C  \n",
       "2      0  STON/O2. 3101282   7.9250   NaN        S  \n",
       "3      0            113803  53.1000  C123        S  \n",
       "4      0            373450   8.0500   NaN        S  "
      ]
     },
     "execution_count": 2,
     "metadata": {},
     "output_type": "execute_result"
    }
   ],
   "source": [
    "train_data = pd.read_csv(\"/kaggle/input/titanic/train.csv\")\n",
    "train_data.head()\n"
   ]
  },
  {
   "cell_type": "code",
   "execution_count": 3,
   "id": "d9f01289",
   "metadata": {
    "execution": {
     "iopub.execute_input": "2022-04-02T16:30:48.570247Z",
     "iopub.status.busy": "2022-04-02T16:30:48.569587Z",
     "iopub.status.idle": "2022-04-02T16:30:48.594162Z",
     "shell.execute_reply": "2022-04-02T16:30:48.594646Z",
     "shell.execute_reply.started": "2022-04-02T16:24:15.729248Z"
    },
    "papermill": {
     "duration": 0.083146,
     "end_time": "2022-04-02T16:30:48.594822",
     "exception": false,
     "start_time": "2022-04-02T16:30:48.511676",
     "status": "completed"
    },
    "tags": []
   },
   "outputs": [
    {
     "data": {
      "text/html": [
       "<div>\n",
       "<style scoped>\n",
       "    .dataframe tbody tr th:only-of-type {\n",
       "        vertical-align: middle;\n",
       "    }\n",
       "\n",
       "    .dataframe tbody tr th {\n",
       "        vertical-align: top;\n",
       "    }\n",
       "\n",
       "    .dataframe thead th {\n",
       "        text-align: right;\n",
       "    }\n",
       "</style>\n",
       "<table border=\"1\" class=\"dataframe\">\n",
       "  <thead>\n",
       "    <tr style=\"text-align: right;\">\n",
       "      <th></th>\n",
       "      <th>PassengerId</th>\n",
       "      <th>Pclass</th>\n",
       "      <th>Name</th>\n",
       "      <th>Sex</th>\n",
       "      <th>Age</th>\n",
       "      <th>SibSp</th>\n",
       "      <th>Parch</th>\n",
       "      <th>Ticket</th>\n",
       "      <th>Fare</th>\n",
       "      <th>Cabin</th>\n",
       "      <th>Embarked</th>\n",
       "    </tr>\n",
       "  </thead>\n",
       "  <tbody>\n",
       "    <tr>\n",
       "      <th>0</th>\n",
       "      <td>892</td>\n",
       "      <td>3</td>\n",
       "      <td>Kelly, Mr. James</td>\n",
       "      <td>male</td>\n",
       "      <td>34.5</td>\n",
       "      <td>0</td>\n",
       "      <td>0</td>\n",
       "      <td>330911</td>\n",
       "      <td>7.8292</td>\n",
       "      <td>NaN</td>\n",
       "      <td>Q</td>\n",
       "    </tr>\n",
       "    <tr>\n",
       "      <th>1</th>\n",
       "      <td>893</td>\n",
       "      <td>3</td>\n",
       "      <td>Wilkes, Mrs. James (Ellen Needs)</td>\n",
       "      <td>female</td>\n",
       "      <td>47.0</td>\n",
       "      <td>1</td>\n",
       "      <td>0</td>\n",
       "      <td>363272</td>\n",
       "      <td>7.0000</td>\n",
       "      <td>NaN</td>\n",
       "      <td>S</td>\n",
       "    </tr>\n",
       "    <tr>\n",
       "      <th>2</th>\n",
       "      <td>894</td>\n",
       "      <td>2</td>\n",
       "      <td>Myles, Mr. Thomas Francis</td>\n",
       "      <td>male</td>\n",
       "      <td>62.0</td>\n",
       "      <td>0</td>\n",
       "      <td>0</td>\n",
       "      <td>240276</td>\n",
       "      <td>9.6875</td>\n",
       "      <td>NaN</td>\n",
       "      <td>Q</td>\n",
       "    </tr>\n",
       "    <tr>\n",
       "      <th>3</th>\n",
       "      <td>895</td>\n",
       "      <td>3</td>\n",
       "      <td>Wirz, Mr. Albert</td>\n",
       "      <td>male</td>\n",
       "      <td>27.0</td>\n",
       "      <td>0</td>\n",
       "      <td>0</td>\n",
       "      <td>315154</td>\n",
       "      <td>8.6625</td>\n",
       "      <td>NaN</td>\n",
       "      <td>S</td>\n",
       "    </tr>\n",
       "    <tr>\n",
       "      <th>4</th>\n",
       "      <td>896</td>\n",
       "      <td>3</td>\n",
       "      <td>Hirvonen, Mrs. Alexander (Helga E Lindqvist)</td>\n",
       "      <td>female</td>\n",
       "      <td>22.0</td>\n",
       "      <td>1</td>\n",
       "      <td>1</td>\n",
       "      <td>3101298</td>\n",
       "      <td>12.2875</td>\n",
       "      <td>NaN</td>\n",
       "      <td>S</td>\n",
       "    </tr>\n",
       "  </tbody>\n",
       "</table>\n",
       "</div>"
      ],
      "text/plain": [
       "   PassengerId  Pclass                                          Name     Sex  \\\n",
       "0          892       3                              Kelly, Mr. James    male   \n",
       "1          893       3              Wilkes, Mrs. James (Ellen Needs)  female   \n",
       "2          894       2                     Myles, Mr. Thomas Francis    male   \n",
       "3          895       3                              Wirz, Mr. Albert    male   \n",
       "4          896       3  Hirvonen, Mrs. Alexander (Helga E Lindqvist)  female   \n",
       "\n",
       "    Age  SibSp  Parch   Ticket     Fare Cabin Embarked  \n",
       "0  34.5      0      0   330911   7.8292   NaN        Q  \n",
       "1  47.0      1      0   363272   7.0000   NaN        S  \n",
       "2  62.0      0      0   240276   9.6875   NaN        Q  \n",
       "3  27.0      0      0   315154   8.6625   NaN        S  \n",
       "4  22.0      1      1  3101298  12.2875   NaN        S  "
      ]
     },
     "execution_count": 3,
     "metadata": {},
     "output_type": "execute_result"
    }
   ],
   "source": [
    "test_data = pd.read_csv(\"/kaggle/input/titanic/test.csv\")\n",
    "test_data.head()"
   ]
  },
  {
   "cell_type": "code",
   "execution_count": 4,
   "id": "b4b54919",
   "metadata": {
    "execution": {
     "iopub.execute_input": "2022-04-02T16:30:48.712020Z",
     "iopub.status.busy": "2022-04-02T16:30:48.711394Z",
     "iopub.status.idle": "2022-04-02T16:30:48.738104Z",
     "shell.execute_reply": "2022-04-02T16:30:48.737503Z",
     "shell.execute_reply.started": "2022-04-02T16:24:15.777569Z"
    },
    "papermill": {
     "duration": 0.085607,
     "end_time": "2022-04-02T16:30:48.738264",
     "exception": false,
     "start_time": "2022-04-02T16:30:48.652657",
     "status": "completed"
    },
    "tags": []
   },
   "outputs": [
    {
     "name": "stdout",
     "output_type": "stream",
     "text": [
      "<class 'pandas.core.frame.DataFrame'>\n",
      "RangeIndex: 891 entries, 0 to 890\n",
      "Data columns (total 12 columns):\n",
      " #   Column       Non-Null Count  Dtype  \n",
      "---  ------       --------------  -----  \n",
      " 0   PassengerId  891 non-null    int64  \n",
      " 1   Survived     891 non-null    int64  \n",
      " 2   Pclass       891 non-null    int64  \n",
      " 3   Name         891 non-null    object \n",
      " 4   Sex          891 non-null    object \n",
      " 5   Age          714 non-null    float64\n",
      " 6   SibSp        891 non-null    int64  \n",
      " 7   Parch        891 non-null    int64  \n",
      " 8   Ticket       891 non-null    object \n",
      " 9   Fare         891 non-null    float64\n",
      " 10  Cabin        204 non-null    object \n",
      " 11  Embarked     889 non-null    object \n",
      "dtypes: float64(2), int64(5), object(5)\n",
      "memory usage: 83.7+ KB\n"
     ]
    }
   ],
   "source": [
    "train_data.info()"
   ]
  },
  {
   "cell_type": "markdown",
   "id": "0459af15",
   "metadata": {
    "papermill": {
     "duration": 0.058669,
     "end_time": "2022-04-02T16:30:48.853721",
     "exception": false,
     "start_time": "2022-04-02T16:30:48.795052",
     "status": "completed"
    },
    "tags": []
   },
   "source": [
    "There are 5 integer,2 float and 5 categorical variables in training dataset. Our binary response variable is \"Survived\".  \n",
    "Age and Cabin variables has null values."
   ]
  },
  {
   "cell_type": "code",
   "execution_count": 5,
   "id": "bd96cd5a",
   "metadata": {
    "execution": {
     "iopub.execute_input": "2022-04-02T16:30:48.978651Z",
     "iopub.status.busy": "2022-04-02T16:30:48.977513Z",
     "iopub.status.idle": "2022-04-02T16:30:49.004194Z",
     "shell.execute_reply": "2022-04-02T16:30:49.004734Z",
     "shell.execute_reply.started": "2022-04-02T16:24:15.824927Z"
    },
    "papermill": {
     "duration": 0.093285,
     "end_time": "2022-04-02T16:30:49.004959",
     "exception": false,
     "start_time": "2022-04-02T16:30:48.911674",
     "status": "completed"
    },
    "tags": []
   },
   "outputs": [
    {
     "data": {
      "text/html": [
       "<div>\n",
       "<style scoped>\n",
       "    .dataframe tbody tr th:only-of-type {\n",
       "        vertical-align: middle;\n",
       "    }\n",
       "\n",
       "    .dataframe tbody tr th {\n",
       "        vertical-align: top;\n",
       "    }\n",
       "\n",
       "    .dataframe thead th {\n",
       "        text-align: right;\n",
       "    }\n",
       "</style>\n",
       "<table border=\"1\" class=\"dataframe\">\n",
       "  <thead>\n",
       "    <tr style=\"text-align: right;\">\n",
       "      <th></th>\n",
       "      <th>PassengerId</th>\n",
       "      <th>Survived</th>\n",
       "      <th>Pclass</th>\n",
       "      <th>Age</th>\n",
       "      <th>SibSp</th>\n",
       "      <th>Parch</th>\n",
       "      <th>Fare</th>\n",
       "    </tr>\n",
       "  </thead>\n",
       "  <tbody>\n",
       "    <tr>\n",
       "      <th>count</th>\n",
       "      <td>891.000000</td>\n",
       "      <td>891.000000</td>\n",
       "      <td>891.000000</td>\n",
       "      <td>714.000000</td>\n",
       "      <td>891.000000</td>\n",
       "      <td>891.000000</td>\n",
       "      <td>891.000000</td>\n",
       "    </tr>\n",
       "    <tr>\n",
       "      <th>mean</th>\n",
       "      <td>446.000000</td>\n",
       "      <td>0.383838</td>\n",
       "      <td>2.308642</td>\n",
       "      <td>29.699118</td>\n",
       "      <td>0.523008</td>\n",
       "      <td>0.381594</td>\n",
       "      <td>32.204208</td>\n",
       "    </tr>\n",
       "    <tr>\n",
       "      <th>std</th>\n",
       "      <td>257.353842</td>\n",
       "      <td>0.486592</td>\n",
       "      <td>0.836071</td>\n",
       "      <td>14.526497</td>\n",
       "      <td>1.102743</td>\n",
       "      <td>0.806057</td>\n",
       "      <td>49.693429</td>\n",
       "    </tr>\n",
       "    <tr>\n",
       "      <th>min</th>\n",
       "      <td>1.000000</td>\n",
       "      <td>0.000000</td>\n",
       "      <td>1.000000</td>\n",
       "      <td>0.420000</td>\n",
       "      <td>0.000000</td>\n",
       "      <td>0.000000</td>\n",
       "      <td>0.000000</td>\n",
       "    </tr>\n",
       "    <tr>\n",
       "      <th>25%</th>\n",
       "      <td>223.500000</td>\n",
       "      <td>0.000000</td>\n",
       "      <td>2.000000</td>\n",
       "      <td>20.125000</td>\n",
       "      <td>0.000000</td>\n",
       "      <td>0.000000</td>\n",
       "      <td>7.910400</td>\n",
       "    </tr>\n",
       "    <tr>\n",
       "      <th>50%</th>\n",
       "      <td>446.000000</td>\n",
       "      <td>0.000000</td>\n",
       "      <td>3.000000</td>\n",
       "      <td>28.000000</td>\n",
       "      <td>0.000000</td>\n",
       "      <td>0.000000</td>\n",
       "      <td>14.454200</td>\n",
       "    </tr>\n",
       "    <tr>\n",
       "      <th>75%</th>\n",
       "      <td>668.500000</td>\n",
       "      <td>1.000000</td>\n",
       "      <td>3.000000</td>\n",
       "      <td>38.000000</td>\n",
       "      <td>1.000000</td>\n",
       "      <td>0.000000</td>\n",
       "      <td>31.000000</td>\n",
       "    </tr>\n",
       "    <tr>\n",
       "      <th>max</th>\n",
       "      <td>891.000000</td>\n",
       "      <td>1.000000</td>\n",
       "      <td>3.000000</td>\n",
       "      <td>80.000000</td>\n",
       "      <td>8.000000</td>\n",
       "      <td>6.000000</td>\n",
       "      <td>512.329200</td>\n",
       "    </tr>\n",
       "  </tbody>\n",
       "</table>\n",
       "</div>"
      ],
      "text/plain": [
       "       PassengerId    Survived      Pclass         Age       SibSp  \\\n",
       "count   891.000000  891.000000  891.000000  714.000000  891.000000   \n",
       "mean    446.000000    0.383838    2.308642   29.699118    0.523008   \n",
       "std     257.353842    0.486592    0.836071   14.526497    1.102743   \n",
       "min       1.000000    0.000000    1.000000    0.420000    0.000000   \n",
       "25%     223.500000    0.000000    2.000000   20.125000    0.000000   \n",
       "50%     446.000000    0.000000    3.000000   28.000000    0.000000   \n",
       "75%     668.500000    1.000000    3.000000   38.000000    1.000000   \n",
       "max     891.000000    1.000000    3.000000   80.000000    8.000000   \n",
       "\n",
       "            Parch        Fare  \n",
       "count  891.000000  891.000000  \n",
       "mean     0.381594   32.204208  \n",
       "std      0.806057   49.693429  \n",
       "min      0.000000    0.000000  \n",
       "25%      0.000000    7.910400  \n",
       "50%      0.000000   14.454200  \n",
       "75%      0.000000   31.000000  \n",
       "max      6.000000  512.329200  "
      ]
     },
     "execution_count": 5,
     "metadata": {},
     "output_type": "execute_result"
    }
   ],
   "source": [
    "train_data.describe()"
   ]
  },
  {
   "cell_type": "markdown",
   "id": "06055d04",
   "metadata": {
    "papermill": {
     "duration": 0.057158,
     "end_time": "2022-04-02T16:30:49.123513",
     "exception": false,
     "start_time": "2022-04-02T16:30:49.066355",
     "status": "completed"
    },
    "tags": []
   },
   "source": [
    "38% of the passangers in training set survived. Passanger ages reange between 0.42 and 80 years old with mean of 29.69.  "
   ]
  },
  {
   "cell_type": "code",
   "execution_count": 6,
   "id": "a7a6a96c",
   "metadata": {
    "execution": {
     "iopub.execute_input": "2022-04-02T16:30:49.257644Z",
     "iopub.status.busy": "2022-04-02T16:30:49.256795Z",
     "iopub.status.idle": "2022-04-02T16:30:50.974304Z",
     "shell.execute_reply": "2022-04-02T16:30:50.973633Z",
     "shell.execute_reply.started": "2022-04-02T16:24:16.053017Z"
    },
    "papermill": {
     "duration": 1.792514,
     "end_time": "2022-04-02T16:30:50.974473",
     "exception": false,
     "start_time": "2022-04-02T16:30:49.181959",
     "status": "completed"
    },
    "tags": []
   },
   "outputs": [
    {
     "data": {
      "text/plain": [
       "array([[<AxesSubplot:title={'center':'PassengerId'}>,\n",
       "        <AxesSubplot:title={'center':'Survived'}>,\n",
       "        <AxesSubplot:title={'center':'Pclass'}>],\n",
       "       [<AxesSubplot:title={'center':'Age'}>,\n",
       "        <AxesSubplot:title={'center':'SibSp'}>,\n",
       "        <AxesSubplot:title={'center':'Parch'}>],\n",
       "       [<AxesSubplot:title={'center':'Fare'}>, <AxesSubplot:>,\n",
       "        <AxesSubplot:>]], dtype=object)"
      ]
     },
     "execution_count": 6,
     "metadata": {},
     "output_type": "execute_result"
    },
    {
     "data": {
      "image/png": "[encoded data removed]",
      "text/plain": [
       "<Figure size 720x504 with 9 Axes>"
      ]
     },
     "metadata": {
      "needs_background": "light"
     },
     "output_type": "display_data"
    }
   ],
   "source": [
    "train_data.hist(bins=50, figsize=(10,7))"
   ]
  },
  {
   "cell_type": "markdown",
   "id": "8fd49b29",
   "metadata": {
    "papermill": {
     "duration": 0.05831,
     "end_time": "2022-04-02T16:30:51.092051",
     "exception": false,
     "start_time": "2022-04-02T16:30:51.033741",
     "status": "completed"
    },
    "tags": []
   },
   "source": [
    "# Filling NA values "
   ]
  },
  {
   "cell_type": "code",
   "execution_count": 7,
   "id": "245384f4",
   "metadata": {
    "execution": {
     "iopub.execute_input": "2022-04-02T16:30:51.230558Z",
     "iopub.status.busy": "2022-04-02T16:30:51.219670Z",
     "iopub.status.idle": "2022-04-02T16:30:51.233705Z",
     "shell.execute_reply": "2022-04-02T16:30:51.233181Z",
     "shell.execute_reply.started": "2022-04-02T16:24:17.660257Z"
    },
    "papermill": {
     "duration": 0.083167,
     "end_time": "2022-04-02T16:30:51.233845",
     "exception": false,
     "start_time": "2022-04-02T16:30:51.150678",
     "status": "completed"
    },
    "tags": []
   },
   "outputs": [
    {
     "data": {
      "text/html": [
       "<div>\n",
       "<style scoped>\n",
       "    .dataframe tbody tr th:only-of-type {\n",
       "        vertical-align: middle;\n",
       "    }\n",
       "\n",
       "    .dataframe tbody tr th {\n",
       "        vertical-align: top;\n",
       "    }\n",
       "\n",
       "    .dataframe thead th {\n",
       "        text-align: right;\n",
       "    }\n",
       "</style>\n",
       "<table border=\"1\" class=\"dataframe\">\n",
       "  <thead>\n",
       "    <tr style=\"text-align: right;\">\n",
       "      <th></th>\n",
       "      <th>Total</th>\n",
       "      <th>%</th>\n",
       "    </tr>\n",
       "  </thead>\n",
       "  <tbody>\n",
       "    <tr>\n",
       "      <th>Cabin</th>\n",
       "      <td>687</td>\n",
       "      <td>77.1</td>\n",
       "    </tr>\n",
       "    <tr>\n",
       "      <th>Age</th>\n",
       "      <td>177</td>\n",
       "      <td>19.9</td>\n",
       "    </tr>\n",
       "    <tr>\n",
       "      <th>Embarked</th>\n",
       "      <td>2</td>\n",
       "      <td>0.2</td>\n",
       "    </tr>\n",
       "    <tr>\n",
       "      <th>PassengerId</th>\n",
       "      <td>0</td>\n",
       "      <td>0.0</td>\n",
       "    </tr>\n",
       "    <tr>\n",
       "      <th>Survived</th>\n",
       "      <td>0</td>\n",
       "      <td>0.0</td>\n",
       "    </tr>\n",
       "  </tbody>\n",
       "</table>\n",
       "</div>"
      ],
      "text/plain": [
       "             Total     %\n",
       "Cabin          687  77.1\n",
       "Age            177  19.9\n",
       "Embarked         2   0.2\n",
       "PassengerId      0   0.0\n",
       "Survived         0   0.0"
      ]
     },
     "execution_count": 7,
     "metadata": {},
     "output_type": "execute_result"
    }
   ],
   "source": [
    "total_train = train_data.isnull().sum().sort_values(ascending=False)\n",
    "percent_1 = train_data.isnull().sum()/train_data.isnull().count()*100\n",
    "percent_2 = (round(percent_1, 1)).sort_values(ascending=False)\n",
    "missing_data_train = pd.concat([total_train, percent_2], axis=1, keys=['Total', '%'])\n",
    "missing_data_train.head(5)"
   ]
  },
  {
   "cell_type": "markdown",
   "id": "7dccca4a",
   "metadata": {
    "papermill": {
     "duration": 0.060953,
     "end_time": "2022-04-02T16:30:51.355475",
     "exception": false,
     "start_time": "2022-04-02T16:30:51.294522",
     "status": "completed"
    },
    "tags": []
   },
   "source": [
    "**CABIN AND FARE**"
   ]
  },
  {
   "cell_type": "code",
   "execution_count": 8,
   "id": "94d61f6e",
   "metadata": {
    "execution": {
     "iopub.execute_input": "2022-04-02T16:30:51.477733Z",
     "iopub.status.busy": "2022-04-02T16:30:51.477047Z",
     "iopub.status.idle": "2022-04-02T16:30:51.494557Z",
     "shell.execute_reply": "2022-04-02T16:30:51.495031Z",
     "shell.execute_reply.started": "2022-04-02T16:24:17.685314Z"
    },
    "papermill": {
     "duration": 0.079817,
     "end_time": "2022-04-02T16:30:51.495205",
     "exception": false,
     "start_time": "2022-04-02T16:30:51.415388",
     "status": "completed"
    },
    "tags": []
   },
   "outputs": [
    {
     "data": {
      "text/html": [
       "<div>\n",
       "<style scoped>\n",
       "    .dataframe tbody tr th:only-of-type {\n",
       "        vertical-align: middle;\n",
       "    }\n",
       "\n",
       "    .dataframe tbody tr th {\n",
       "        vertical-align: top;\n",
       "    }\n",
       "\n",
       "    .dataframe thead th {\n",
       "        text-align: right;\n",
       "    }\n",
       "</style>\n",
       "<table border=\"1\" class=\"dataframe\">\n",
       "  <thead>\n",
       "    <tr style=\"text-align: right;\">\n",
       "      <th></th>\n",
       "      <th>Total</th>\n",
       "      <th>%</th>\n",
       "    </tr>\n",
       "  </thead>\n",
       "  <tbody>\n",
       "    <tr>\n",
       "      <th>Cabin</th>\n",
       "      <td>327</td>\n",
       "      <td>78.2</td>\n",
       "    </tr>\n",
       "    <tr>\n",
       "      <th>Age</th>\n",
       "      <td>86</td>\n",
       "      <td>20.6</td>\n",
       "    </tr>\n",
       "    <tr>\n",
       "      <th>Fare</th>\n",
       "      <td>1</td>\n",
       "      <td>0.2</td>\n",
       "    </tr>\n",
       "    <tr>\n",
       "      <th>PassengerId</th>\n",
       "      <td>0</td>\n",
       "      <td>0.0</td>\n",
       "    </tr>\n",
       "    <tr>\n",
       "      <th>Pclass</th>\n",
       "      <td>0</td>\n",
       "      <td>0.0</td>\n",
       "    </tr>\n",
       "  </tbody>\n",
       "</table>\n",
       "</div>"
      ],
      "text/plain": [
       "             Total     %\n",
       "Cabin          327  78.2\n",
       "Age             86  20.6\n",
       "Fare             1   0.2\n",
       "PassengerId      0   0.0\n",
       "Pclass           0   0.0"
      ]
     },
     "execution_count": 8,
     "metadata": {},
     "output_type": "execute_result"
    }
   ],
   "source": [
    "total_test = test_data.isnull().sum().sort_values(ascending=False)\n",
    "percent_1 = test_data.isnull().sum()/test_data.isnull().count()*100\n",
    "percent_2 = (round(percent_1, 1)).sort_values(ascending=False)\n",
    "missing_data_test = pd.concat([total_test, percent_2], axis=1, keys=['Total', '%'])\n",
    "missing_data_test.head(5)"
   ]
  },
  {
   "cell_type": "markdown",
   "id": "c72e11e6",
   "metadata": {
    "papermill": {
     "duration": 0.059102,
     "end_time": "2022-04-02T16:30:51.614091",
     "exception": false,
     "start_time": "2022-04-02T16:30:51.554989",
     "status": "completed"
    },
    "tags": []
   },
   "source": [
    "* 687 values in Cabin variable is missing which equals to 77.1% of the training dataset. Whereas, 177 values in Age variable is missing with 19.9% of training dataset. Lastly, 2 embarked values are missing.\n",
    "* We also have lots of missing values in Cabin variable, 86 values in Age variable and 1 value in Fare variable in test dataset.\n"
   ]
  },
  {
   "cell_type": "code",
   "execution_count": 9,
   "id": "663d93de",
   "metadata": {
    "execution": {
     "iopub.execute_input": "2022-04-02T16:30:51.737431Z",
     "iopub.status.busy": "2022-04-02T16:30:51.736779Z",
     "iopub.status.idle": "2022-04-02T16:30:51.751469Z",
     "shell.execute_reply": "2022-04-02T16:30:51.750567Z",
     "shell.execute_reply.started": "2022-04-02T16:24:17.714492Z"
    },
    "papermill": {
     "duration": 0.077504,
     "end_time": "2022-04-02T16:30:51.751675",
     "exception": false,
     "start_time": "2022-04-02T16:30:51.674171",
     "status": "completed"
    },
    "tags": []
   },
   "outputs": [
    {
     "name": "stdout",
     "output_type": "stream",
     "text": [
      "\n",
      "Duplicated values in train 0\n",
      "Duplicated values in test 0\n"
     ]
    }
   ],
   "source": [
    "print('\\nDuplicated values in train {}'.format(train_data.duplicated().sum()))\n",
    "print('Duplicated values in test {}'.format(test_data.duplicated().sum()))"
   ]
  },
  {
   "cell_type": "code",
   "execution_count": 10,
   "id": "dffdd9cb",
   "metadata": {
    "execution": {
     "iopub.execute_input": "2022-04-02T16:30:51.883192Z",
     "iopub.status.busy": "2022-04-02T16:30:51.882336Z",
     "iopub.status.idle": "2022-04-02T16:30:51.886081Z",
     "shell.execute_reply": "2022-04-02T16:30:51.885544Z",
     "shell.execute_reply.started": "2022-04-02T16:24:17.730283Z"
    },
    "papermill": {
     "duration": 0.073628,
     "end_time": "2022-04-02T16:30:51.886221",
     "exception": false,
     "start_time": "2022-04-02T16:30:51.812593",
     "status": "completed"
    },
    "tags": []
   },
   "outputs": [
    {
     "data": {
      "text/plain": [
       "S    646\n",
       "C    168\n",
       "Q     77\n",
       "Name: Embarked, dtype: int64"
      ]
     },
     "execution_count": 10,
     "metadata": {},
     "output_type": "execute_result"
    }
   ],
   "source": [
    "train_data[\"Embarked\"].value_counts()\n",
    "train_data[\"Embarked\"].fillna(\"S\",inplace=True)\n",
    "train_data[\"Embarked\"].value_counts()"
   ]
  },
  {
   "cell_type": "code",
   "execution_count": 11,
   "id": "b69a0fdf",
   "metadata": {
    "execution": {
     "iopub.execute_input": "2022-04-02T16:30:52.017258Z",
     "iopub.status.busy": "2022-04-02T16:30:52.016398Z",
     "iopub.status.idle": "2022-04-02T16:30:52.018648Z",
     "shell.execute_reply": "2022-04-02T16:30:52.019094Z",
     "shell.execute_reply.started": "2022-04-02T16:24:17.743328Z"
    },
    "papermill": {
     "duration": 0.070055,
     "end_time": "2022-04-02T16:30:52.019288",
     "exception": false,
     "start_time": "2022-04-02T16:30:51.949233",
     "status": "completed"
    },
    "tags": []
   },
   "outputs": [],
   "source": [
    "test_data['Fare'].fillna(value=test_data.Fare.mean(), inplace=True)"
   ]
  },
  {
   "cell_type": "markdown",
   "id": "e02d2ecb",
   "metadata": {
    "papermill": {
     "duration": 0.062165,
     "end_time": "2022-04-02T16:30:52.147966",
     "exception": false,
     "start_time": "2022-04-02T16:30:52.085801",
     "status": "completed"
    },
    "tags": []
   },
   "source": [
    "* 2 missing values in Embarked variable filled with most frequent group \"S\" (train)\n",
    "* 1 missing value in Fare variable filled with average** (test)"
   ]
  },
  {
   "cell_type": "code",
   "execution_count": 12,
   "id": "b99d04da",
   "metadata": {
    "execution": {
     "iopub.execute_input": "2022-04-02T16:30:52.289295Z",
     "iopub.status.busy": "2022-04-02T16:30:52.288184Z",
     "iopub.status.idle": "2022-04-02T16:30:52.625350Z",
     "shell.execute_reply": "2022-04-02T16:30:52.625815Z",
     "shell.execute_reply.started": "2022-04-02T16:24:17.757851Z"
    },
    "papermill": {
     "duration": 0.416517,
     "end_time": "2022-04-02T16:30:52.625994",
     "exception": false,
     "start_time": "2022-04-02T16:30:52.209477",
     "status": "completed"
    },
    "tags": []
   },
   "outputs": [
    {
     "data": {
      "image/png": "[encoded data removed]",
      "text/plain": [
       "<Figure size 1080x360 with 1 Axes>"
      ]
     },
     "metadata": {
      "needs_background": "light"
     },
     "output_type": "display_data"
    }
   ],
   "source": [
    "train_data['Cabin'] = pd.Series(['Missing' if pd.isnull(pp) else pp[0] for pp in train_data['Cabin']])\n",
    "test_data['Cabin'] = pd.Series(['Missing' if pd.isnull(pp) else pp[0] for pp in test_data['Cabin']])\n",
    "\n",
    "plt.figure(figsize=(15,5))\n",
    "plt.title('Box Plot of Cabin')\n",
    "sns.boxplot(x='Cabin',y='Fare',data=train_data, palette='Set1')\n",
    "plt.tight_layout()"
   ]
  },
  {
   "cell_type": "markdown",
   "id": "6f1393a0",
   "metadata": {
    "papermill": {
     "duration": 0.061038,
     "end_time": "2022-04-02T16:30:52.748654",
     "exception": false,
     "start_time": "2022-04-02T16:30:52.687616",
     "status": "completed"
    },
    "tags": []
   },
   "source": [
    "It can be said that people whose cabin information is missing do not have a cabin. Because their fare scores are low too. However, there is still large amount of outlier values in missing group which has to be handled."
   ]
  },
  {
   "cell_type": "code",
   "execution_count": 13,
   "id": "9ad1e930",
   "metadata": {
    "execution": {
     "iopub.execute_input": "2022-04-02T16:30:52.914772Z",
     "iopub.status.busy": "2022-04-02T16:30:52.880237Z",
     "iopub.status.idle": "2022-04-02T16:30:53.237939Z",
     "shell.execute_reply": "2022-04-02T16:30:53.237314Z",
     "shell.execute_reply.started": "2022-04-02T16:24:18.202370Z"
    },
    "papermill": {
     "duration": 0.427809,
     "end_time": "2022-04-02T16:30:53.238076",
     "exception": false,
     "start_time": "2022-04-02T16:30:52.810267",
     "status": "completed"
    },
    "tags": []
   },
   "outputs": [
    {
     "data": {
      "image/png": "[encoded data removed]",
      "text/plain": [
       "<Figure size 864x360 with 1 Axes>"
      ]
     },
     "metadata": {
      "needs_background": "light"
     },
     "output_type": "display_data"
    }
   ],
   "source": [
    "def missing_cabin(cabin_fare):\n",
    "    \n",
    "    cabin = cabin_fare[0]\n",
    "    fare = cabin_fare[1]\n",
    "    \n",
    "    if cabin=='Missing':\n",
    "        if (fare >= 110):\n",
    "            return 'B'\n",
    "        if ((fare < 110) and (fare > 100)):\n",
    "            return 'C'\n",
    "        if ((fare < 100) and (fare > 55)):\n",
    "            return 'D'\n",
    "        if ((fare < 55) and (fare > 46)):\n",
    "            return 'D'\n",
    "        else:\n",
    "            return 'Missing'\n",
    "    else:\n",
    "        return cabin\n",
    "      \n",
    "train_data['Cabin'] = train_data[['Cabin', 'Fare']].apply(missing_cabin, axis=1)\n",
    "test_data['Cabin'] = test_data[['Cabin', 'Fare']].apply(missing_cabin, axis=1)\n",
    "\n",
    "plt.figure(figsize=(12,5))\n",
    "plt.title('Box Plot of Cabin')\n",
    "sns.boxplot(x='Cabin',y='Fare',data=train_data, palette='Set1')\n",
    "plt.tight_layout()"
   ]
  },
  {
   "cell_type": "markdown",
   "id": "0d977d0f",
   "metadata": {
    "papermill": {
     "duration": 0.062166,
     "end_time": "2022-04-02T16:30:53.363272",
     "exception": false,
     "start_time": "2022-04-02T16:30:53.301106",
     "status": "completed"
    },
    "tags": []
   },
   "source": [
    "**Filling Age values with Name**"
   ]
  },
  {
   "cell_type": "code",
   "execution_count": 14,
   "id": "b8d57e6a",
   "metadata": {
    "execution": {
     "iopub.execute_input": "2022-04-02T16:30:53.491435Z",
     "iopub.status.busy": "2022-04-02T16:30:53.490811Z",
     "iopub.status.idle": "2022-04-02T16:30:53.501497Z",
     "shell.execute_reply": "2022-04-02T16:30:53.501992Z",
     "shell.execute_reply.started": "2022-04-02T16:24:18.651702Z"
    },
    "papermill": {
     "duration": 0.076848,
     "end_time": "2022-04-02T16:30:53.502163",
     "exception": false,
     "start_time": "2022-04-02T16:30:53.425315",
     "status": "completed"
    },
    "tags": []
   },
   "outputs": [
    {
     "data": {
      "text/plain": [
       "Mr        517\n",
       "Miss      182\n",
       "Mrs       125\n",
       "Master     40\n",
       "Dr          7\n",
       "Name: 0, dtype: int64"
      ]
     },
     "execution_count": 14,
     "metadata": {},
     "output_type": "execute_result"
    }
   ],
   "source": [
    "title=train_data['Name'].str.extract('.+?,\\s(.+?).\\s')[0]\n",
    "title.value_counts().head()"
   ]
  },
  {
   "cell_type": "markdown",
   "id": "c4d6c6dd",
   "metadata": {
    "papermill": {
     "duration": 0.062503,
     "end_time": "2022-04-02T16:30:53.627750",
     "exception": false,
     "start_time": "2022-04-02T16:30:53.565247",
     "status": "completed"
    },
    "tags": []
   },
   "source": [
    "* In the dataset, names are filled in specific order, such as Alp, Mr. Yalcin\n",
    "* We can extract their titles to create some group"
   ]
  },
  {
   "cell_type": "code",
   "execution_count": 15,
   "id": "e719e714",
   "metadata": {
    "execution": {
     "iopub.execute_input": "2022-04-02T16:30:53.765705Z",
     "iopub.status.busy": "2022-04-02T16:30:53.764994Z",
     "iopub.status.idle": "2022-04-02T16:30:53.779941Z",
     "shell.execute_reply": "2022-04-02T16:30:53.780781Z",
     "shell.execute_reply.started": "2022-04-02T16:24:18.669570Z"
    },
    "papermill": {
     "duration": 0.090041,
     "end_time": "2022-04-02T16:30:53.781045",
     "exception": false,
     "start_time": "2022-04-02T16:30:53.691004",
     "status": "completed"
    },
    "tags": []
   },
   "outputs": [
    {
     "name": "stdout",
     "output_type": "stream",
     "text": [
      "Mean age of Miss. title 22.0\n",
      "Mean age of Mrs. title 36.0\n",
      "Mean age of Mr. title 33.0\n",
      "Mean age of Master. title 5.0\n",
      "Mean age of Dr. title 39.0\n",
      "Mean age of Ms. title 28.0\n"
     ]
    }
   ],
   "source": [
    "mean_age_miss = round(train_data[train_data[\"Name\"].str.contains('Miss.', na=False)]['Age'].mean(),0)\n",
    "mean_age_mrs = round(train_data[train_data[\"Name\"].str.contains('Mrs.', na=False)]['Age'].mean(),0)\n",
    "mean_age_mr = round(train_data[train_data[\"Name\"].str.contains('Mr.', na=False)]['Age'].mean(),0)\n",
    "mean_age_master = round(train_data[train_data[\"Name\"].str.contains('Master.', na=False)]['Age'].mean(),0)\n",
    "mean_age_dr = round(train_data[train_data[\"Name\"].str.contains('Dr.', na=False)]['Age'].mean(),0)\n",
    "mean_age_ms = round(train_data[train_data[\"Name\"].str.contains(\"Ms.\", na =False)][\"Age\"].mean(),0)\n",
    "print('Mean age of Miss. title {}'.format(mean_age_miss))\n",
    "print('Mean age of Mrs. title {}'.format(mean_age_mrs))\n",
    "print('Mean age of Mr. title {}'.format(mean_age_mr))\n",
    "print('Mean age of Master. title {}'.format(mean_age_master))\n",
    "print('Mean age of Dr. title {}'.format(mean_age_dr))\n",
    "print(\"Mean age of Ms. title {}\".format(mean_age_ms))"
   ]
  },
  {
   "cell_type": "code",
   "execution_count": 16,
   "id": "ca828809",
   "metadata": {
    "execution": {
     "iopub.execute_input": "2022-04-02T16:30:53.917643Z",
     "iopub.status.busy": "2022-04-02T16:30:53.916999Z",
     "iopub.status.idle": "2022-04-02T16:30:53.951731Z",
     "shell.execute_reply": "2022-04-02T16:30:53.951100Z",
     "shell.execute_reply.started": "2022-04-02T16:24:18.695338Z"
    },
    "papermill": {
     "duration": 0.102533,
     "end_time": "2022-04-02T16:30:53.951876",
     "exception": false,
     "start_time": "2022-04-02T16:30:53.849343",
     "status": "completed"
    },
    "tags": []
   },
   "outputs": [
    {
     "name": "stdout",
     "output_type": "stream",
     "text": [
      "0\n"
     ]
    }
   ],
   "source": [
    "def fill_age(name_age):\n",
    "    name = name_age[0]\n",
    "    age = name_age[1]\n",
    "    if pd.isnull(age):\n",
    "        if \"Mr.\" in name:\n",
    "            return mean_age_mr\n",
    "        if \"Miss\" in name:\n",
    "            return mean_age_miss\n",
    "        if \"Mrs.\" in name:\n",
    "            return mean_age_mrs\n",
    "        if \"Master\" in name:\n",
    "            return mean_age_master\n",
    "        if \"Dr.\" in name:\n",
    "            return mean_age_dr\n",
    "        if \"Ms.\" in name:\n",
    "            return mean_age_ms\n",
    "    else:\n",
    "        return age\n",
    "\n",
    "train_data['Age'] = train_data[['Name', 'Age']].apply(fill_age,axis=1)\n",
    "test_data['Age'] = test_data[['Name', 'Age']].apply(fill_age,axis=1)\n",
    "print(train_data['Age'].isnull().sum())"
   ]
  },
  {
   "cell_type": "markdown",
   "id": "88d41a9f",
   "metadata": {
    "papermill": {
     "duration": 0.067812,
     "end_time": "2022-04-02T16:30:54.086903",
     "exception": false,
     "start_time": "2022-04-02T16:30:54.019091",
     "status": "completed"
    },
    "tags": []
   },
   "source": [
    "We had 177 null values in Age variable in train dataset before. Some people have title in their names such as Dr., Mr. Miss, Mrs. or Master.\n",
    "\n",
    "* Make 4 group with people who has these titles on their names\n",
    "* Take the average of their ages\n",
    "* Fill NA age values with these averages for people who has title but unknown age data Now all null values in Age variable is filled."
   ]
  },
  {
   "cell_type": "code",
   "execution_count": 17,
   "id": "e1a0e010",
   "metadata": {
    "execution": {
     "iopub.execute_input": "2022-04-02T16:30:54.223718Z",
     "iopub.status.busy": "2022-04-02T16:30:54.223031Z",
     "iopub.status.idle": "2022-04-02T16:30:54.230624Z",
     "shell.execute_reply": "2022-04-02T16:30:54.231141Z",
     "shell.execute_reply.started": "2022-04-02T16:24:18.738325Z"
    },
    "papermill": {
     "duration": 0.076843,
     "end_time": "2022-04-02T16:30:54.231311",
     "exception": false,
     "start_time": "2022-04-02T16:30:54.154468",
     "status": "completed"
    },
    "tags": []
   },
   "outputs": [
    {
     "data": {
      "text/plain": [
       "PassengerId    0\n",
       "Survived       0\n",
       "Pclass         0\n",
       "Name           0\n",
       "Sex            0\n",
       "Age            0\n",
       "SibSp          0\n",
       "Parch          0\n",
       "Ticket         0\n",
       "Fare           0\n",
       "Cabin          0\n",
       "Embarked       0\n",
       "dtype: int64"
      ]
     },
     "execution_count": 17,
     "metadata": {},
     "output_type": "execute_result"
    }
   ],
   "source": [
    "train_data.isna().sum()"
   ]
  },
  {
   "cell_type": "code",
   "execution_count": 18,
   "id": "5f03f237",
   "metadata": {
    "execution": {
     "iopub.execute_input": "2022-04-02T16:30:54.369659Z",
     "iopub.status.busy": "2022-04-02T16:30:54.368927Z",
     "iopub.status.idle": "2022-04-02T16:30:54.376997Z",
     "shell.execute_reply": "2022-04-02T16:30:54.376503Z",
     "shell.execute_reply.started": "2022-04-02T16:24:18.751942Z"
    },
    "papermill": {
     "duration": 0.076278,
     "end_time": "2022-04-02T16:30:54.377137",
     "exception": false,
     "start_time": "2022-04-02T16:30:54.300859",
     "status": "completed"
    },
    "tags": []
   },
   "outputs": [
    {
     "data": {
      "text/plain": [
       "PassengerId    0\n",
       "Pclass         0\n",
       "Name           0\n",
       "Sex            0\n",
       "Age            0\n",
       "SibSp          0\n",
       "Parch          0\n",
       "Ticket         0\n",
       "Fare           0\n",
       "Cabin          0\n",
       "Embarked       0\n",
       "dtype: int64"
      ]
     },
     "execution_count": 18,
     "metadata": {},
     "output_type": "execute_result"
    }
   ],
   "source": [
    "test_data.isna().sum()"
   ]
  },
  {
   "cell_type": "markdown",
   "id": "a9a5d205",
   "metadata": {
    "papermill": {
     "duration": 0.067176,
     "end_time": "2022-04-02T16:30:54.510974",
     "exception": false,
     "start_time": "2022-04-02T16:30:54.443798",
     "status": "completed"
    },
    "tags": []
   },
   "source": [
    "We filled all of the missing values.\n"
   ]
  },
  {
   "cell_type": "code",
   "execution_count": 19,
   "id": "4d86ecc4",
   "metadata": {
    "execution": {
     "iopub.execute_input": "2022-04-02T16:30:54.646568Z",
     "iopub.status.busy": "2022-04-02T16:30:54.645863Z",
     "iopub.status.idle": "2022-04-02T16:30:54.656018Z",
     "shell.execute_reply": "2022-04-02T16:30:54.655305Z",
     "shell.execute_reply.started": "2022-04-02T16:24:18.768558Z"
    },
    "papermill": {
     "duration": 0.078261,
     "end_time": "2022-04-02T16:30:54.656173",
     "exception": false,
     "start_time": "2022-04-02T16:30:54.577912",
     "status": "completed"
    },
    "tags": []
   },
   "outputs": [
    {
     "data": {
      "text/plain": [
       "Embarked\n",
       "C    0.553571\n",
       "Q    0.389610\n",
       "S    0.339009\n",
       "Name: Survived, dtype: float64"
      ]
     },
     "execution_count": 19,
     "metadata": {},
     "output_type": "execute_result"
    }
   ],
   "source": [
    "train_data.groupby([\"Embarked\"])[\"Survived\"].mean()"
   ]
  },
  {
   "cell_type": "markdown",
   "id": "e4ce1f1a",
   "metadata": {
    "papermill": {
     "duration": 0.064189,
     "end_time": "2022-04-02T16:30:54.785467",
     "exception": false,
     "start_time": "2022-04-02T16:30:54.721278",
     "status": "completed"
    },
    "tags": []
   },
   "source": [
    "The passangers belong to port C has the strongest possibility to survive in general with 55%. But when we separate into genders, we have interesting correlation between gender and survivals. "
   ]
  },
  {
   "cell_type": "markdown",
   "id": "e0e98cff",
   "metadata": {
    "papermill": {
     "duration": 0.065384,
     "end_time": "2022-04-02T16:30:54.916218",
     "exception": false,
     "start_time": "2022-04-02T16:30:54.850834",
     "status": "completed"
    },
    "tags": []
   },
   "source": [
    "**Data Engineering**"
   ]
  },
  {
   "cell_type": "code",
   "execution_count": 20,
   "id": "79a75fda",
   "metadata": {
    "execution": {
     "iopub.execute_input": "2022-04-02T16:30:55.053619Z",
     "iopub.status.busy": "2022-04-02T16:30:55.052975Z",
     "iopub.status.idle": "2022-04-02T16:30:56.203467Z",
     "shell.execute_reply": "2022-04-02T16:30:56.203941Z",
     "shell.execute_reply.started": "2022-04-02T16:24:18.780272Z"
    },
    "papermill": {
     "duration": 1.221685,
     "end_time": "2022-04-02T16:30:56.204115",
     "exception": false,
     "start_time": "2022-04-02T16:30:54.982430",
     "status": "completed"
    },
    "tags": []
   },
   "outputs": [
    {
     "data": {
      "text/plain": [
       "<seaborn.axisgrid.FacetGrid at 0x7f5ad3a2dc10>"
      ]
     },
     "execution_count": 20,
     "metadata": {},
     "output_type": "execute_result"
    },
    {
     "data": {
      "image/png": "[encoded data removed]",
      "text/plain": [
       "<Figure size 358.5x540 with 3 Axes>"
      ]
     },
     "metadata": {
      "needs_background": "light"
     },
     "output_type": "display_data"
    }
   ],
   "source": [
    "FacetGrid = sns.FacetGrid(train_data, row='Embarked', height=2.5, aspect=1.6)\n",
    "FacetGrid.map(sns.barplot, 'Pclass', 'Survived', 'Sex', palette = [\"C1\",\"C2\"],hue_order = None,order=None)\n",
    "FacetGrid.add_legend()"
   ]
  },
  {
   "cell_type": "markdown",
   "id": "7560df41",
   "metadata": {
    "papermill": {
     "duration": 0.06644,
     "end_time": "2022-04-02T16:30:56.338728",
     "exception": false,
     "start_time": "2022-04-02T16:30:56.272288",
     "status": "completed"
    },
    "tags": []
   },
   "source": [
    "Female passangers belong to Embarked S and Q, have more chance to survive whereas male passanger has quite low chance to live (especially in port Q its almost 0). However, for port C,vice versa, male passengers survive with higher possilibility then females. "
   ]
  },
  {
   "cell_type": "code",
   "execution_count": 21,
   "id": "bbad6bb2",
   "metadata": {
    "execution": {
     "iopub.execute_input": "2022-04-02T16:30:56.475741Z",
     "iopub.status.busy": "2022-04-02T16:30:56.473546Z",
     "iopub.status.idle": "2022-04-02T16:30:56.863050Z",
     "shell.execute_reply": "2022-04-02T16:30:56.863544Z",
     "shell.execute_reply.started": "2022-04-02T16:24:20.056055Z"
    },
    "papermill": {
     "duration": 0.458948,
     "end_time": "2022-04-02T16:30:56.863710",
     "exception": false,
     "start_time": "2022-04-02T16:30:56.404762",
     "status": "completed"
    },
    "tags": []
   },
   "outputs": [
    {
     "data": {
      "text/plain": [
       "<AxesSubplot:xlabel='Pclass', ylabel='Survived'>"
      ]
     },
     "execution_count": 21,
     "metadata": {},
     "output_type": "execute_result"
    },
    {
     "data": {
      "image/png": "[encoded data removed]",
      "text/plain": [
       "<Figure size 432x288 with 1 Axes>"
      ]
     },
     "metadata": {
      "needs_background": "light"
     },
     "output_type": "display_data"
    }
   ],
   "source": [
    "sns.barplot(x='Pclass', y='Survived', data=train_data, hue =\"Sex\")"
   ]
  },
  {
   "cell_type": "markdown",
   "id": "3efff7c9",
   "metadata": {
    "papermill": {
     "duration": 0.06814,
     "end_time": "2022-04-02T16:30:57.000892",
     "exception": false,
     "start_time": "2022-04-02T16:30:56.932752",
     "status": "completed"
    },
    "tags": []
   },
   "source": [
    "When we look at the Pclass variable in genders, we can there is strong correlationg between class and surviving possibility as expected. Especially, female people have significantly strong probability to survive in class 1 and 2."
   ]
  },
  {
   "cell_type": "code",
   "execution_count": 22,
   "id": "7bfb002a",
   "metadata": {
    "execution": {
     "iopub.execute_input": "2022-04-02T16:30:57.142027Z",
     "iopub.status.busy": "2022-04-02T16:30:57.141035Z",
     "iopub.status.idle": "2022-04-02T16:30:57.156003Z",
     "shell.execute_reply": "2022-04-02T16:30:57.156568Z",
     "shell.execute_reply.started": "2022-04-02T16:24:20.517184Z"
    },
    "papermill": {
     "duration": 0.088681,
     "end_time": "2022-04-02T16:30:57.156738",
     "exception": false,
     "start_time": "2022-04-02T16:30:57.068057",
     "status": "completed"
    },
    "tags": []
   },
   "outputs": [
    {
     "data": {
      "text/plain": [
       "0    537\n",
       "1    354\n",
       "Name: not_alone, dtype: int64"
      ]
     },
     "execution_count": 22,
     "metadata": {},
     "output_type": "execute_result"
    }
   ],
   "source": [
    "full_data = [train_data, test_data]\n",
    "for dataset in full_data:\n",
    "    dataset['relatives'] = dataset['SibSp'] + dataset['Parch']\n",
    "    dataset.loc[dataset['relatives'] > 0, 'not_alone'] = 1\n",
    "    dataset.loc[dataset['relatives'] == 0, 'not_alone'] = 0\n",
    "    dataset['not_alone'] = dataset['not_alone'].astype(int)\n",
    "train_data['not_alone'].value_counts()"
   ]
  },
  {
   "cell_type": "code",
   "execution_count": 23,
   "id": "dabcdb2a",
   "metadata": {
    "execution": {
     "iopub.execute_input": "2022-04-02T16:30:57.319501Z",
     "iopub.status.busy": "2022-04-02T16:30:57.318471Z",
     "iopub.status.idle": "2022-04-02T16:30:57.324876Z",
     "shell.execute_reply": "2022-04-02T16:30:57.326085Z",
     "shell.execute_reply.started": "2022-04-02T16:24:20.538424Z"
    },
    "papermill": {
     "duration": 0.101028,
     "end_time": "2022-04-02T16:30:57.326333",
     "exception": false,
     "start_time": "2022-04-02T16:30:57.225305",
     "status": "completed"
    },
    "tags": []
   },
   "outputs": [
    {
     "data": {
      "text/plain": [
       "3    491\n",
       "1    216\n",
       "2    184\n",
       "Name: Pclass, dtype: int64"
      ]
     },
     "execution_count": 23,
     "metadata": {},
     "output_type": "execute_result"
    }
   ],
   "source": [
    "train_data[\"Pclass\"].value_counts()"
   ]
  },
  {
   "cell_type": "markdown",
   "id": "1a80d691",
   "metadata": {
    "papermill": {
     "duration": 0.068264,
     "end_time": "2022-04-02T16:30:57.469497",
     "exception": false,
     "start_time": "2022-04-02T16:30:57.401233",
     "status": "completed"
    },
    "tags": []
   },
   "source": [
    "We can see that, 537 passengers in training set does not have any relatives in the ship with them, whereas 354 people are not alone in the ship. Also more than half of passengers are from class 3"
   ]
  },
  {
   "cell_type": "code",
   "execution_count": 24,
   "id": "736c8b27",
   "metadata": {
    "execution": {
     "iopub.execute_input": "2022-04-02T16:30:57.610172Z",
     "iopub.status.busy": "2022-04-02T16:30:57.609189Z",
     "iopub.status.idle": "2022-04-02T16:30:58.083340Z",
     "shell.execute_reply": "2022-04-02T16:30:58.082780Z",
     "shell.execute_reply.started": "2022-04-02T16:24:20.548152Z"
    },
    "papermill": {
     "duration": 0.545697,
     "end_time": "2022-04-02T16:30:58.083529",
     "exception": false,
     "start_time": "2022-04-02T16:30:57.537832",
     "status": "completed"
    },
    "tags": []
   },
   "outputs": [
    {
     "data": {
      "text/plain": [
       "<AxesSubplot:xlabel='relatives', ylabel='Survived'>"
      ]
     },
     "execution_count": 24,
     "metadata": {},
     "output_type": "execute_result"
    },
    {
     "data": {
      "image/png": "[encoded data removed]",
      "text/plain": [
       "<Figure size 432x288 with 1 Axes>"
      ]
     },
     "metadata": {
      "needs_background": "light"
     },
     "output_type": "display_data"
    }
   ],
   "source": [
    "sns.pointplot(x=\"relatives\",y=\"Survived\",data = train_data,join=False)"
   ]
  },
  {
   "cell_type": "code",
   "execution_count": 25,
   "id": "acc87ae7",
   "metadata": {
    "execution": {
     "iopub.execute_input": "2022-04-02T16:30:58.228084Z",
     "iopub.status.busy": "2022-04-02T16:30:58.227128Z",
     "iopub.status.idle": "2022-04-02T16:30:58.821551Z",
     "shell.execute_reply": "2022-04-02T16:30:58.822110Z",
     "shell.execute_reply.started": "2022-04-02T16:24:21.303207Z"
    },
    "papermill": {
     "duration": 0.668662,
     "end_time": "2022-04-02T16:30:58.822278",
     "exception": false,
     "start_time": "2022-04-02T16:30:58.153616",
     "status": "completed"
    },
    "tags": []
   },
   "outputs": [
    {
     "data": {
      "image/png": "[encoded data removed]",
      "text/plain": [
       "<Figure size 720x360 with 2 Axes>"
      ]
     },
     "metadata": {
      "needs_background": "light"
     },
     "output_type": "display_data"
    }
   ],
   "source": [
    "fig,(ax0,ax1) = plt.subplots(nrows=1, ncols=2, figsize=(10,5))\n",
    "ax0.set_title('Ages of genders')\n",
    "sns.boxplot(x='Survived', y='Age', hue='Sex', data=train_data, ax=ax0)\n",
    "ax1.set_title('Ages of classes')\n",
    "sns.boxplot(x='Survived', y='Age', hue='Pclass', data=train_data, ax=ax1)\n",
    "plt.tight_layout()"
   ]
  },
  {
   "cell_type": "markdown",
   "id": "7ecf77da",
   "metadata": {
    "papermill": {
     "duration": 0.070845,
     "end_time": "2022-04-02T16:30:58.963622",
     "exception": false,
     "start_time": "2022-04-02T16:30:58.892777",
     "status": "completed"
    },
    "tags": []
   },
   "source": [
    "Also, when we extract the ages of survivors, we can obtain more information from dataset\n",
    "* Passenger classes directly correlated with age. Older passangers are more belong to 1st class, whereas young people are members of 3rd class.\n",
    "* Survivals are slightly younger than the people who could not survived."
   ]
  },
  {
   "cell_type": "code",
   "execution_count": 26,
   "id": "b2e60707",
   "metadata": {
    "execution": {
     "iopub.execute_input": "2022-04-02T16:30:59.111704Z",
     "iopub.status.busy": "2022-04-02T16:30:59.111065Z",
     "iopub.status.idle": "2022-04-02T16:30:59.828578Z",
     "shell.execute_reply": "2022-04-02T16:30:59.829064Z",
     "shell.execute_reply.started": "2022-04-02T16:24:21.974073Z"
    },
    "papermill": {
     "duration": 0.795103,
     "end_time": "2022-04-02T16:30:59.829247",
     "exception": false,
     "start_time": "2022-04-02T16:30:59.034144",
     "status": "completed"
    },
    "tags": []
   },
   "outputs": [
    {
     "data": {
      "text/plain": [
       "<AxesSubplot:>"
      ]
     },
     "execution_count": 26,
     "metadata": {},
     "output_type": "execute_result"
    },
    {
     "data": {
      "image/png": "[encoded data removed]",
      "text/plain": [
       "<Figure size 720x360 with 2 Axes>"
      ]
     },
     "metadata": {
      "needs_background": "light"
     },
     "output_type": "display_data"
    }
   ],
   "source": [
    "plt.figure(figsize=(10,5))\n",
    "sns.heatmap(train_data.corr(), annot=True)"
   ]
  },
  {
   "cell_type": "markdown",
   "id": "99fc5b63",
   "metadata": {
    "papermill": {
     "duration": 0.073954,
     "end_time": "2022-04-02T16:30:59.977199",
     "exception": false,
     "start_time": "2022-04-02T16:30:59.903245",
     "status": "completed"
    },
    "tags": []
   },
   "source": [
    "When we consider the integer variables, we might say that only \"Fare\" variable have correlation with \"Survived\" variable which is weak alone at first blush."
   ]
  },
  {
   "cell_type": "markdown",
   "id": "9e93b094",
   "metadata": {
    "papermill": {
     "duration": 0.072901,
     "end_time": "2022-04-02T16:31:00.125727",
     "exception": false,
     "start_time": "2022-04-02T16:31:00.052826",
     "status": "completed"
    },
    "tags": []
   },
   "source": [
    "**Converting Categorical Variables**"
   ]
  },
  {
   "cell_type": "code",
   "execution_count": 27,
   "id": "c17730fc",
   "metadata": {
    "execution": {
     "iopub.execute_input": "2022-04-02T16:31:00.283802Z",
     "iopub.status.busy": "2022-04-02T16:31:00.282225Z",
     "iopub.status.idle": "2022-04-02T16:31:01.628486Z",
     "shell.execute_reply": "2022-04-02T16:31:01.628963Z",
     "shell.execute_reply.started": "2022-04-02T16:24:22.697165Z"
    },
    "papermill": {
     "duration": 1.430737,
     "end_time": "2022-04-02T16:31:01.629138",
     "exception": false,
     "start_time": "2022-04-02T16:31:00.198401",
     "status": "completed"
    },
    "tags": []
   },
   "outputs": [
    {
     "data": {
      "image/png": "[encoded data removed]",
      "text/plain": [
       "<Figure size 720x432 with 2 Axes>"
      ]
     },
     "metadata": {
      "needs_background": "light"
     },
     "output_type": "display_data"
    }
   ],
   "source": [
    "categories = {\"female\": 1, \"male\": 0}\n",
    "train_data['Sex']= train_data['Sex'].map(categories)\n",
    "test_data['Sex']= test_data['Sex'].map(categories)\n",
    "\n",
    "categories = {\"S\": 1, \"C\": 2, \"Q\": 3}\n",
    "train_data['Embarked']= train_data['Embarked'].map(categories)\n",
    "test_data['Embarked']= test_data['Embarked'].map(categories)\n",
    "\n",
    "categories = train_data.Cabin.unique()\n",
    "train_data['Cabin'] = train_data.Cabin.astype(\"category\").cat.codes\n",
    "test_data['Cabin'] = test_data.Cabin.astype(\"category\").cat.codes\n",
    "\n",
    "plt.figure(figsize=(10,6))\n",
    "sns.heatmap(train_data.corr(), annot=True)\n",
    "plt.tight_layout()"
   ]
  },
  {
   "cell_type": "code",
   "execution_count": 28,
   "id": "57276b7d",
   "metadata": {
    "execution": {
     "iopub.execute_input": "2022-04-02T16:31:01.788132Z",
     "iopub.status.busy": "2022-04-02T16:31:01.787413Z",
     "iopub.status.idle": "2022-04-02T16:31:01.793507Z",
     "shell.execute_reply": "2022-04-02T16:31:01.793994Z",
     "shell.execute_reply.started": "2022-04-02T16:24:23.899706Z"
    },
    "papermill": {
     "duration": 0.089566,
     "end_time": "2022-04-02T16:31:01.794163",
     "exception": false,
     "start_time": "2022-04-02T16:31:01.704597",
     "status": "completed"
    },
    "tags": []
   },
   "outputs": [
    {
     "data": {
      "text/plain": [
       "Survived       1.000000\n",
       "Sex            0.543351\n",
       "Fare           0.257307\n",
       "not_alone      0.203367\n",
       "Embarked       0.106811\n",
       "Parch          0.081629\n",
       "relatives      0.016639\n",
       "PassengerId   -0.005007\n",
       "SibSp         -0.035322\n",
       "Age           -0.091876\n",
       "Cabin         -0.295220\n",
       "Pclass        -0.338481\n",
       "Name: Survived, dtype: float64"
      ]
     },
     "execution_count": 28,
     "metadata": {},
     "output_type": "execute_result"
    }
   ],
   "source": [
    "corr_matrix = train_data.corr()\n",
    "corr_matrix['Survived'].sort_values(ascending=False)"
   ]
  },
  {
   "cell_type": "markdown",
   "id": "44e896f2",
   "metadata": {
    "papermill": {
     "duration": 0.078189,
     "end_time": "2022-04-02T16:31:01.949203",
     "exception": false,
     "start_time": "2022-04-02T16:31:01.871014",
     "status": "completed"
    },
    "tags": []
   },
   "source": [
    "Features which are less related with dependent variable can be dropped now."
   ]
  },
  {
   "cell_type": "code",
   "execution_count": 29,
   "id": "5e6aeedd",
   "metadata": {
    "execution": {
     "iopub.execute_input": "2022-04-02T16:31:02.106978Z",
     "iopub.status.busy": "2022-04-02T16:31:02.106255Z",
     "iopub.status.idle": "2022-04-02T16:31:02.123995Z",
     "shell.execute_reply": "2022-04-02T16:31:02.123337Z",
     "shell.execute_reply.started": "2022-04-02T16:24:23.913891Z"
    },
    "papermill": {
     "duration": 0.097524,
     "end_time": "2022-04-02T16:31:02.124141",
     "exception": false,
     "start_time": "2022-04-02T16:31:02.026617",
     "status": "completed"
    },
    "tags": []
   },
   "outputs": [
    {
     "data": {
      "text/html": [
       "<div>\n",
       "<style scoped>\n",
       "    .dataframe tbody tr th:only-of-type {\n",
       "        vertical-align: middle;\n",
       "    }\n",
       "\n",
       "    .dataframe tbody tr th {\n",
       "        vertical-align: top;\n",
       "    }\n",
       "\n",
       "    .dataframe thead th {\n",
       "        text-align: right;\n",
       "    }\n",
       "</style>\n",
       "<table border=\"1\" class=\"dataframe\">\n",
       "  <thead>\n",
       "    <tr style=\"text-align: right;\">\n",
       "      <th></th>\n",
       "      <th>PassengerId</th>\n",
       "      <th>Survived</th>\n",
       "      <th>Pclass</th>\n",
       "      <th>Sex</th>\n",
       "      <th>Age</th>\n",
       "      <th>SibSp</th>\n",
       "      <th>Parch</th>\n",
       "      <th>Fare</th>\n",
       "      <th>Cabin</th>\n",
       "      <th>Embarked</th>\n",
       "      <th>relatives</th>\n",
       "      <th>not_alone</th>\n",
       "    </tr>\n",
       "  </thead>\n",
       "  <tbody>\n",
       "    <tr>\n",
       "      <th>0</th>\n",
       "      <td>1</td>\n",
       "      <td>0</td>\n",
       "      <td>3</td>\n",
       "      <td>0</td>\n",
       "      <td>22.0</td>\n",
       "      <td>1</td>\n",
       "      <td>0</td>\n",
       "      <td>7.2500</td>\n",
       "      <td>7</td>\n",
       "      <td>1</td>\n",
       "      <td>1</td>\n",
       "      <td>1</td>\n",
       "    </tr>\n",
       "    <tr>\n",
       "      <th>1</th>\n",
       "      <td>2</td>\n",
       "      <td>1</td>\n",
       "      <td>1</td>\n",
       "      <td>1</td>\n",
       "      <td>38.0</td>\n",
       "      <td>1</td>\n",
       "      <td>0</td>\n",
       "      <td>71.2833</td>\n",
       "      <td>2</td>\n",
       "      <td>2</td>\n",
       "      <td>1</td>\n",
       "      <td>1</td>\n",
       "    </tr>\n",
       "    <tr>\n",
       "      <th>2</th>\n",
       "      <td>3</td>\n",
       "      <td>1</td>\n",
       "      <td>3</td>\n",
       "      <td>1</td>\n",
       "      <td>26.0</td>\n",
       "      <td>0</td>\n",
       "      <td>0</td>\n",
       "      <td>7.9250</td>\n",
       "      <td>7</td>\n",
       "      <td>1</td>\n",
       "      <td>0</td>\n",
       "      <td>0</td>\n",
       "    </tr>\n",
       "    <tr>\n",
       "      <th>3</th>\n",
       "      <td>4</td>\n",
       "      <td>1</td>\n",
       "      <td>1</td>\n",
       "      <td>1</td>\n",
       "      <td>35.0</td>\n",
       "      <td>1</td>\n",
       "      <td>0</td>\n",
       "      <td>53.1000</td>\n",
       "      <td>2</td>\n",
       "      <td>1</td>\n",
       "      <td>1</td>\n",
       "      <td>1</td>\n",
       "    </tr>\n",
       "    <tr>\n",
       "      <th>4</th>\n",
       "      <td>5</td>\n",
       "      <td>0</td>\n",
       "      <td>3</td>\n",
       "      <td>0</td>\n",
       "      <td>35.0</td>\n",
       "      <td>0</td>\n",
       "      <td>0</td>\n",
       "      <td>8.0500</td>\n",
       "      <td>7</td>\n",
       "      <td>1</td>\n",
       "      <td>0</td>\n",
       "      <td>0</td>\n",
       "    </tr>\n",
       "  </tbody>\n",
       "</table>\n",
       "</div>"
      ],
      "text/plain": [
       "   PassengerId  Survived  Pclass  Sex   Age  SibSp  Parch     Fare  Cabin  \\\n",
       "0            1         0       3    0  22.0      1      0   7.2500      7   \n",
       "1            2         1       1    1  38.0      1      0  71.2833      2   \n",
       "2            3         1       3    1  26.0      0      0   7.9250      7   \n",
       "3            4         1       1    1  35.0      1      0  53.1000      2   \n",
       "4            5         0       3    0  35.0      0      0   8.0500      7   \n",
       "\n",
       "   Embarked  relatives  not_alone  \n",
       "0         1          1          1  \n",
       "1         2          1          1  \n",
       "2         1          0          0  \n",
       "3         1          1          1  \n",
       "4         1          0          0  "
      ]
     },
     "execution_count": 29,
     "metadata": {},
     "output_type": "execute_result"
    }
   ],
   "source": [
    "#train_data = train_data.drop(['Name','Ticket','PassengerId'], axis=1)\n",
    "#test_data = test_data.drop(['Name','Ticket','PassengerId'], axis=1)\n",
    "#train_data.head()\n",
    "train_data = train_data.drop(['Name','Ticket'], axis=1)\n",
    "test_data = test_data.drop(['Name','Ticket'], axis=1)\n",
    "train_data.head()"
   ]
  },
  {
   "cell_type": "markdown",
   "id": "62c1a919",
   "metadata": {
    "papermill": {
     "duration": 0.076157,
     "end_time": "2022-04-02T16:31:02.278246",
     "exception": false,
     "start_time": "2022-04-02T16:31:02.202089",
     "status": "completed"
    },
    "tags": []
   },
   "source": [
    "We can scale our training data with sklearn MinMaxScaler library"
   ]
  },
  {
   "cell_type": "markdown",
   "id": "70666f70",
   "metadata": {
    "papermill": {
     "duration": 0.07897,
     "end_time": "2022-04-02T16:31:02.435013",
     "exception": false,
     "start_time": "2022-04-02T16:31:02.356043",
     "status": "completed"
    },
    "tags": []
   },
   "source": [
    "**Normalization**"
   ]
  },
  {
   "cell_type": "code",
   "execution_count": 30,
   "id": "2e6b37ef",
   "metadata": {
    "execution": {
     "iopub.execute_input": "2022-04-02T16:31:02.591685Z",
     "iopub.status.busy": "2022-04-02T16:31:02.591047Z",
     "iopub.status.idle": "2022-04-02T16:31:02.755299Z",
     "shell.execute_reply": "2022-04-02T16:31:02.754787Z",
     "shell.execute_reply.started": "2022-04-02T16:24:23.937003Z"
    },
    "papermill": {
     "duration": 0.24347,
     "end_time": "2022-04-02T16:31:02.755455",
     "exception": false,
     "start_time": "2022-04-02T16:31:02.511985",
     "status": "completed"
    },
    "tags": []
   },
   "outputs": [
    {
     "data": {
      "text/html": [
       "<div>\n",
       "<style scoped>\n",
       "    .dataframe tbody tr th:only-of-type {\n",
       "        vertical-align: middle;\n",
       "    }\n",
       "\n",
       "    .dataframe tbody tr th {\n",
       "        vertical-align: top;\n",
       "    }\n",
       "\n",
       "    .dataframe thead th {\n",
       "        text-align: right;\n",
       "    }\n",
       "</style>\n",
       "<table border=\"1\" class=\"dataframe\">\n",
       "  <thead>\n",
       "    <tr style=\"text-align: right;\">\n",
       "      <th></th>\n",
       "      <th>PassengerId</th>\n",
       "      <th>Pclass</th>\n",
       "      <th>Sex</th>\n",
       "      <th>Age</th>\n",
       "      <th>SibSp</th>\n",
       "      <th>Parch</th>\n",
       "      <th>Fare</th>\n",
       "      <th>Cabin</th>\n",
       "      <th>Embarked</th>\n",
       "      <th>relatives</th>\n",
       "      <th>not_alone</th>\n",
       "    </tr>\n",
       "  </thead>\n",
       "  <tbody>\n",
       "    <tr>\n",
       "      <th>0</th>\n",
       "      <td>0.000000</td>\n",
       "      <td>1.0</td>\n",
       "      <td>0.0</td>\n",
       "      <td>0.271174</td>\n",
       "      <td>0.125</td>\n",
       "      <td>0.0</td>\n",
       "      <td>0.014151</td>\n",
       "      <td>0.875</td>\n",
       "      <td>0.0</td>\n",
       "      <td>0.1</td>\n",
       "      <td>1.0</td>\n",
       "    </tr>\n",
       "    <tr>\n",
       "      <th>1</th>\n",
       "      <td>0.001124</td>\n",
       "      <td>0.0</td>\n",
       "      <td>1.0</td>\n",
       "      <td>0.472229</td>\n",
       "      <td>0.125</td>\n",
       "      <td>0.0</td>\n",
       "      <td>0.139136</td>\n",
       "      <td>0.250</td>\n",
       "      <td>0.5</td>\n",
       "      <td>0.1</td>\n",
       "      <td>1.0</td>\n",
       "    </tr>\n",
       "    <tr>\n",
       "      <th>2</th>\n",
       "      <td>0.002247</td>\n",
       "      <td>1.0</td>\n",
       "      <td>1.0</td>\n",
       "      <td>0.321438</td>\n",
       "      <td>0.000</td>\n",
       "      <td>0.0</td>\n",
       "      <td>0.015469</td>\n",
       "      <td>0.875</td>\n",
       "      <td>0.0</td>\n",
       "      <td>0.0</td>\n",
       "      <td>0.0</td>\n",
       "    </tr>\n",
       "    <tr>\n",
       "      <th>3</th>\n",
       "      <td>0.003371</td>\n",
       "      <td>0.0</td>\n",
       "      <td>1.0</td>\n",
       "      <td>0.434531</td>\n",
       "      <td>0.125</td>\n",
       "      <td>0.0</td>\n",
       "      <td>0.103644</td>\n",
       "      <td>0.250</td>\n",
       "      <td>0.0</td>\n",
       "      <td>0.1</td>\n",
       "      <td>1.0</td>\n",
       "    </tr>\n",
       "    <tr>\n",
       "      <th>4</th>\n",
       "      <td>0.004494</td>\n",
       "      <td>1.0</td>\n",
       "      <td>0.0</td>\n",
       "      <td>0.434531</td>\n",
       "      <td>0.000</td>\n",
       "      <td>0.0</td>\n",
       "      <td>0.015713</td>\n",
       "      <td>0.875</td>\n",
       "      <td>0.0</td>\n",
       "      <td>0.0</td>\n",
       "      <td>0.0</td>\n",
       "    </tr>\n",
       "  </tbody>\n",
       "</table>\n",
       "</div>"
      ],
      "text/plain": [
       "   PassengerId  Pclass  Sex       Age  SibSp  Parch      Fare  Cabin  \\\n",
       "0     0.000000     1.0  0.0  0.271174  0.125    0.0  0.014151  0.875   \n",
       "1     0.001124     0.0  1.0  0.472229  0.125    0.0  0.139136  0.250   \n",
       "2     0.002247     1.0  1.0  0.321438  0.000    0.0  0.015469  0.875   \n",
       "3     0.003371     0.0  1.0  0.434531  0.125    0.0  0.103644  0.250   \n",
       "4     0.004494     1.0  0.0  0.434531  0.000    0.0  0.015713  0.875   \n",
       "\n",
       "   Embarked  relatives  not_alone  \n",
       "0       0.0        0.1        1.0  \n",
       "1       0.5        0.1        1.0  \n",
       "2       0.0        0.0        0.0  \n",
       "3       0.0        0.1        1.0  \n",
       "4       0.0        0.0        0.0  "
      ]
     },
     "execution_count": 30,
     "metadata": {},
     "output_type": "execute_result"
    }
   ],
   "source": [
    "from sklearn.preprocessing import MinMaxScaler\n",
    "\n",
    "# Dropping label\n",
    "LABEL = 'Survived'\n",
    "y = train_data[LABEL]\n",
    "train_data = train_data.drop(LABEL, axis=1)  # Dropping label to normalize\n",
    "\n",
    "scaler = MinMaxScaler()\n",
    "scaled_train = scaler.fit_transform(train_data)\n",
    "scaled_test = scaler.transform(test_data)\n",
    "\n",
    "scaled_train = pd.DataFrame(scaled_train, columns=train_data.columns, index=train_data.index)\n",
    "scaled_test = pd.DataFrame(scaled_test, columns=test_data.columns, index=test_data.index)\n",
    "\n",
    "scaled_train.head()"
   ]
  },
  {
   "cell_type": "markdown",
   "id": "b1928b74",
   "metadata": {
    "papermill": {
     "duration": 0.079447,
     "end_time": "2022-04-02T16:31:02.912256",
     "exception": false,
     "start_time": "2022-04-02T16:31:02.832809",
     "status": "completed"
    },
    "tags": []
   },
   "source": [
    "**Random Forest with Grid Search CV implementation on Titanic dataset**"
   ]
  },
  {
   "cell_type": "code",
   "execution_count": 31,
   "id": "1fa9abea",
   "metadata": {
    "execution": {
     "iopub.execute_input": "2022-04-02T16:31:03.074382Z",
     "iopub.status.busy": "2022-04-02T16:31:03.073173Z",
     "iopub.status.idle": "2022-04-02T16:31:03.335777Z",
     "shell.execute_reply": "2022-04-02T16:31:03.336211Z",
     "shell.execute_reply.started": "2022-04-02T16:24:23.971171Z"
    },
    "papermill": {
     "duration": 0.345206,
     "end_time": "2022-04-02T16:31:03.336398",
     "exception": false,
     "start_time": "2022-04-02T16:31:02.991192",
     "status": "completed"
    },
    "tags": []
   },
   "outputs": [
    {
     "name": "stdout",
     "output_type": "stream",
     "text": [
      "(712, 11) (179, 11)\n",
      "(712,) (179,)\n"
     ]
    }
   ],
   "source": [
    "from sklearn.ensemble import RandomForestClassifier\n",
    "from sklearn import metrics\n",
    "from sklearn.model_selection import train_test_split\n",
    "from sklearn.metrics import classification_report\n",
    "from sklearn.metrics import confusion_matrix\n",
    "\n",
    "X_train, X_test, y_train, y_test = train_test_split(scaled_train, y, test_size=0.2,stratify=y)\n",
    "print(X_train.shape, X_test.shape)\n",
    "print(y_train.shape, y_test.shape)"
   ]
  },
  {
   "cell_type": "code",
   "execution_count": 32,
   "id": "84ebefc0",
   "metadata": {
    "execution": {
     "iopub.execute_input": "2022-04-02T16:31:03.495552Z",
     "iopub.status.busy": "2022-04-02T16:31:03.494886Z",
     "iopub.status.idle": "2022-04-02T16:31:03.500819Z",
     "shell.execute_reply": "2022-04-02T16:31:03.501400Z",
     "shell.execute_reply.started": "2022-04-02T16:24:23.985017Z"
    },
    "papermill": {
     "duration": 0.086953,
     "end_time": "2022-04-02T16:31:03.501605",
     "exception": false,
     "start_time": "2022-04-02T16:31:03.414652",
     "status": "completed"
    },
    "tags": []
   },
   "outputs": [
    {
     "data": {
      "text/plain": [
       "{'bootstrap': True,\n",
       " 'ccp_alpha': 0.0,\n",
       " 'class_weight': None,\n",
       " 'criterion': 'gini',\n",
       " 'max_depth': None,\n",
       " 'max_features': 'auto',\n",
       " 'max_leaf_nodes': None,\n",
       " 'max_samples': None,\n",
       " 'min_impurity_decrease': 0.0,\n",
       " 'min_samples_leaf': 1,\n",
       " 'min_samples_split': 2,\n",
       " 'min_weight_fraction_leaf': 0.0,\n",
       " 'n_estimators': 100,\n",
       " 'n_jobs': -1,\n",
       " 'oob_score': False,\n",
       " 'random_state': 1,\n",
       " 'verbose': 0,\n",
       " 'warm_start': False}"
      ]
     },
     "execution_count": 32,
     "metadata": {},
     "output_type": "execute_result"
    }
   ],
   "source": [
    "rf = RandomForestClassifier(max_features='auto', random_state=1, n_jobs=-1)\n",
    "rf.get_params()"
   ]
  },
  {
   "cell_type": "code",
   "execution_count": 33,
   "id": "902a93a9",
   "metadata": {
    "execution": {
     "iopub.execute_input": "2022-04-02T16:31:03.661756Z",
     "iopub.status.busy": "2022-04-02T16:31:03.661035Z",
     "iopub.status.idle": "2022-04-02T16:31:03.666984Z",
     "shell.execute_reply": "2022-04-02T16:31:03.667425Z",
     "shell.execute_reply.started": "2022-04-02T16:24:23.997933Z"
    },
    "papermill": {
     "duration": 0.087255,
     "end_time": "2022-04-02T16:31:03.667616",
     "exception": false,
     "start_time": "2022-04-02T16:31:03.580361",
     "status": "completed"
    },
    "tags": []
   },
   "outputs": [],
   "source": [
    "from sklearn.metrics import mean_squared_error as MSE\n",
    "from sklearn.model_selection import GridSearchCV\n",
    "# Define a grid of hyperparameter 'params_rf'\n",
    "params_rf = { \"criterion\" : [\"gini\", \"entropy\"], \n",
    "             \"min_samples_leaf\" : [1, 5, 10], \n",
    "             \"min_samples_split\" : [2, 4, 10, 12, 16], \n",
    "             \"n_estimators\": [50, 100, 400, 700, 1000]}\n",
    "# Instantiate 'grid_rf'\n",
    "grid_rf = GridSearchCV(estimator=rf,\n",
    "                       param_grid=params_rf,\n",
    "                       scoring = \"accuracy\",\n",
    "                       cv=3,\n",
    "                       verbose=1,\n",
    "                       n_jobs=-1)"
   ]
  },
  {
   "cell_type": "code",
   "execution_count": 34,
   "id": "d6c27666",
   "metadata": {
    "execution": {
     "iopub.execute_input": "2022-04-02T16:31:03.827528Z",
     "iopub.status.busy": "2022-04-02T16:31:03.826915Z",
     "iopub.status.idle": "2022-04-02T16:34:17.455034Z",
     "shell.execute_reply": "2022-04-02T16:34:17.455575Z",
     "shell.execute_reply.started": "2022-04-02T16:24:24.008741Z"
    },
    "papermill": {
     "duration": 193.710119,
     "end_time": "2022-04-02T16:34:17.455768",
     "exception": false,
     "start_time": "2022-04-02T16:31:03.745649",
     "status": "completed"
    },
    "tags": []
   },
   "outputs": [
    {
     "name": "stdout",
     "output_type": "stream",
     "text": [
      "Fitting 3 folds for each of 150 candidates, totalling 450 fits\n"
     ]
    },
    {
     "data": {
      "text/plain": [
       "GridSearchCV(cv=3, estimator=RandomForestClassifier(n_jobs=-1, random_state=1),\n",
       "             n_jobs=-1,\n",
       "             param_grid={'criterion': ['gini', 'entropy'],\n",
       "                         'min_samples_leaf': [1, 5, 10],\n",
       "                         'min_samples_split': [2, 4, 10, 12, 16],\n",
       "                         'n_estimators': [50, 100, 400, 700, 1000]},\n",
       "             scoring='accuracy', verbose=1)"
      ]
     },
     "execution_count": 34,
     "metadata": {},
     "output_type": "execute_result"
    }
   ],
   "source": [
    "grid_rf.fit(X_train, y_train)"
   ]
  },
  {
   "cell_type": "code",
   "execution_count": 35,
   "id": "29be3fd9",
   "metadata": {
    "execution": {
     "iopub.execute_input": "2022-04-02T16:34:17.625500Z",
     "iopub.status.busy": "2022-04-02T16:34:17.624467Z",
     "iopub.status.idle": "2022-04-02T16:34:17.630670Z",
     "shell.execute_reply": "2022-04-02T16:34:17.631730Z",
     "shell.execute_reply.started": "2022-04-02T16:27:45.911345Z"
    },
    "papermill": {
     "duration": 0.093209,
     "end_time": "2022-04-02T16:34:17.632070",
     "exception": false,
     "start_time": "2022-04-02T16:34:17.538861",
     "status": "completed"
    },
    "tags": []
   },
   "outputs": [
    {
     "name": "stdout",
     "output_type": "stream",
     "text": [
      "Best hyperparameters:\n",
      " {'criterion': 'entropy', 'min_samples_leaf': 1, 'min_samples_split': 10, 'n_estimators': 100}\n"
     ]
    }
   ],
   "source": [
    "best_hyperparams = grid_rf.best_params_\n",
    "print('Best hyperparameters:\\n', best_hyperparams)"
   ]
  },
  {
   "cell_type": "code",
   "execution_count": 36,
   "id": "b1ba4c04",
   "metadata": {
    "execution": {
     "iopub.execute_input": "2022-04-02T16:34:17.798805Z",
     "iopub.status.busy": "2022-04-02T16:34:17.798095Z",
     "iopub.status.idle": "2022-04-02T16:34:17.802812Z",
     "shell.execute_reply": "2022-04-02T16:34:17.803524Z",
     "shell.execute_reply.started": "2022-04-02T16:27:45.918975Z"
    },
    "papermill": {
     "duration": 0.089123,
     "end_time": "2022-04-02T16:34:17.803759",
     "exception": false,
     "start_time": "2022-04-02T16:34:17.714636",
     "status": "completed"
    },
    "tags": []
   },
   "outputs": [
    {
     "name": "stdout",
     "output_type": "stream",
     "text": [
      "RandomForestClassifier(criterion='entropy', min_samples_split=10, n_jobs=-1,\n",
      "                       random_state=1)\n"
     ]
    }
   ],
   "source": [
    "best_model = grid_rf.best_estimator_\n",
    "print(best_model)\n"
   ]
  },
  {
   "cell_type": "code",
   "execution_count": 37,
   "id": "af62583e",
   "metadata": {
    "execution": {
     "iopub.execute_input": "2022-04-02T16:34:17.971257Z",
     "iopub.status.busy": "2022-04-02T16:34:17.970591Z",
     "iopub.status.idle": "2022-04-02T16:34:18.078687Z",
     "shell.execute_reply": "2022-04-02T16:34:18.079195Z",
     "shell.execute_reply.started": "2022-04-02T16:27:45.935527Z"
    },
    "papermill": {
     "duration": 0.193204,
     "end_time": "2022-04-02T16:34:18.079388",
     "exception": false,
     "start_time": "2022-04-02T16:34:17.886184",
     "status": "completed"
    },
    "tags": []
   },
   "outputs": [],
   "source": [
    "y_pred = best_model.predict(X_test)"
   ]
  },
  {
   "cell_type": "code",
   "execution_count": 38,
   "id": "e7a6baa6",
   "metadata": {
    "execution": {
     "iopub.execute_input": "2022-04-02T16:34:18.245327Z",
     "iopub.status.busy": "2022-04-02T16:34:18.244673Z",
     "iopub.status.idle": "2022-04-02T16:34:18.250358Z",
     "shell.execute_reply": "2022-04-02T16:34:18.250892Z",
     "shell.execute_reply.started": "2022-04-02T16:27:46.152643Z"
    },
    "papermill": {
     "duration": 0.091244,
     "end_time": "2022-04-02T16:34:18.251082",
     "exception": false,
     "start_time": "2022-04-02T16:34:18.159838",
     "status": "completed"
    },
    "tags": []
   },
   "outputs": [
    {
     "name": "stdout",
     "output_type": "stream",
     "text": [
      "Accuracy: 0.7932960893854749\n"
     ]
    }
   ],
   "source": [
    "print(\"Accuracy: {}\".format(metrics.accuracy_score(y_test, y_pred)))"
   ]
  },
  {
   "cell_type": "code",
   "execution_count": 39,
   "id": "c0ca9d36",
   "metadata": {
    "execution": {
     "iopub.execute_input": "2022-04-02T16:34:18.423291Z",
     "iopub.status.busy": "2022-04-02T16:34:18.422509Z",
     "iopub.status.idle": "2022-04-02T16:34:18.872244Z",
     "shell.execute_reply": "2022-04-02T16:34:18.871707Z",
     "shell.execute_reply.started": "2022-04-02T16:27:46.161826Z"
    },
    "papermill": {
     "duration": 0.538245,
     "end_time": "2022-04-02T16:34:18.872397",
     "exception": false,
     "start_time": "2022-04-02T16:34:18.334152",
     "status": "completed"
    },
    "tags": []
   },
   "outputs": [
    {
     "data": {
      "image/png": "[encoded data removed]",
      "text/plain": [
       "<Figure size 720x432 with 1 Axes>"
      ]
     },
     "metadata": {
      "needs_background": "light"
     },
     "output_type": "display_data"
    }
   ],
   "source": [
    "feature_imp = pd.Series(best_model.feature_importances_, index=scaled_train.columns).sort_values(ascending=False)\n",
    "\n",
    "plt.figure(figsize=(10,6))\n",
    "sns.barplot(x=feature_imp, y=feature_imp.index)\n",
    "# Add labels to your graph\n",
    "plt.xlabel('Feature Importance Score')\n",
    "plt.ylabel('Features')\n",
    "plt.title(\"Visualizing Important Features\")\n",
    "plt.tight_layout()"
   ]
  },
  {
   "cell_type": "code",
   "execution_count": 40,
   "id": "bd2ec4f8",
   "metadata": {
    "execution": {
     "iopub.execute_input": "2022-04-02T16:34:19.052503Z",
     "iopub.status.busy": "2022-04-02T16:34:19.040850Z",
     "iopub.status.idle": "2022-04-02T16:34:19.054950Z",
     "shell.execute_reply": "2022-04-02T16:34:19.055485Z",
     "shell.execute_reply.started": "2022-04-02T16:27:46.633767Z"
    },
    "papermill": {
     "duration": 0.100082,
     "end_time": "2022-04-02T16:34:19.055656",
     "exception": false,
     "start_time": "2022-04-02T16:34:18.955574",
     "status": "completed"
    },
    "tags": []
   },
   "outputs": [
    {
     "data": {
      "text/html": [
       "<div>\n",
       "<style scoped>\n",
       "    .dataframe tbody tr th:only-of-type {\n",
       "        vertical-align: middle;\n",
       "    }\n",
       "\n",
       "    .dataframe tbody tr th {\n",
       "        vertical-align: top;\n",
       "    }\n",
       "\n",
       "    .dataframe thead th {\n",
       "        text-align: right;\n",
       "    }\n",
       "</style>\n",
       "<table border=\"1\" class=\"dataframe\">\n",
       "  <thead>\n",
       "    <tr style=\"text-align: right;\">\n",
       "      <th></th>\n",
       "      <th>PassengerId</th>\n",
       "      <th>Pclass</th>\n",
       "      <th>Sex</th>\n",
       "      <th>Age</th>\n",
       "      <th>SibSp</th>\n",
       "      <th>Parch</th>\n",
       "      <th>Fare</th>\n",
       "      <th>Cabin</th>\n",
       "      <th>Embarked</th>\n",
       "      <th>relatives</th>\n",
       "      <th>not_alone</th>\n",
       "    </tr>\n",
       "  </thead>\n",
       "  <tbody>\n",
       "    <tr>\n",
       "      <th>0</th>\n",
       "      <td>892</td>\n",
       "      <td>3</td>\n",
       "      <td>0</td>\n",
       "      <td>34.5</td>\n",
       "      <td>0</td>\n",
       "      <td>0</td>\n",
       "      <td>7.8292</td>\n",
       "      <td>7</td>\n",
       "      <td>3</td>\n",
       "      <td>0</td>\n",
       "      <td>0</td>\n",
       "    </tr>\n",
       "    <tr>\n",
       "      <th>1</th>\n",
       "      <td>893</td>\n",
       "      <td>3</td>\n",
       "      <td>1</td>\n",
       "      <td>47.0</td>\n",
       "      <td>1</td>\n",
       "      <td>0</td>\n",
       "      <td>7.0000</td>\n",
       "      <td>7</td>\n",
       "      <td>1</td>\n",
       "      <td>1</td>\n",
       "      <td>1</td>\n",
       "    </tr>\n",
       "    <tr>\n",
       "      <th>2</th>\n",
       "      <td>894</td>\n",
       "      <td>2</td>\n",
       "      <td>0</td>\n",
       "      <td>62.0</td>\n",
       "      <td>0</td>\n",
       "      <td>0</td>\n",
       "      <td>9.6875</td>\n",
       "      <td>7</td>\n",
       "      <td>3</td>\n",
       "      <td>0</td>\n",
       "      <td>0</td>\n",
       "    </tr>\n",
       "    <tr>\n",
       "      <th>3</th>\n",
       "      <td>895</td>\n",
       "      <td>3</td>\n",
       "      <td>0</td>\n",
       "      <td>27.0</td>\n",
       "      <td>0</td>\n",
       "      <td>0</td>\n",
       "      <td>8.6625</td>\n",
       "      <td>7</td>\n",
       "      <td>1</td>\n",
       "      <td>0</td>\n",
       "      <td>0</td>\n",
       "    </tr>\n",
       "    <tr>\n",
       "      <th>4</th>\n",
       "      <td>896</td>\n",
       "      <td>3</td>\n",
       "      <td>1</td>\n",
       "      <td>22.0</td>\n",
       "      <td>1</td>\n",
       "      <td>1</td>\n",
       "      <td>12.2875</td>\n",
       "      <td>7</td>\n",
       "      <td>1</td>\n",
       "      <td>2</td>\n",
       "      <td>1</td>\n",
       "    </tr>\n",
       "  </tbody>\n",
       "</table>\n",
       "</div>"
      ],
      "text/plain": [
       "   PassengerId  Pclass  Sex   Age  SibSp  Parch     Fare  Cabin  Embarked  \\\n",
       "0          892       3    0  34.5      0      0   7.8292      7         3   \n",
       "1          893       3    1  47.0      1      0   7.0000      7         1   \n",
       "2          894       2    0  62.0      0      0   9.6875      7         3   \n",
       "3          895       3    0  27.0      0      0   8.6625      7         1   \n",
       "4          896       3    1  22.0      1      1  12.2875      7         1   \n",
       "\n",
       "   relatives  not_alone  \n",
       "0          0          0  \n",
       "1          1          1  \n",
       "2          0          0  \n",
       "3          0          0  \n",
       "4          2          1  "
      ]
     },
     "execution_count": 40,
     "metadata": {},
     "output_type": "execute_result"
    }
   ],
   "source": [
    "test_data.head()"
   ]
  },
  {
   "cell_type": "markdown",
   "id": "08c25b0e",
   "metadata": {
    "papermill": {
     "duration": 0.082211,
     "end_time": "2022-04-02T16:34:19.221013",
     "exception": false,
     "start_time": "2022-04-02T16:34:19.138802",
     "status": "completed"
    },
    "tags": []
   },
   "source": [
    "With feature importance of random forest model, it can be seen which features are relevant and which ones are not relevant at all. For further processes, we can delete features with low scores based on the model. "
   ]
  },
  {
   "cell_type": "code",
   "execution_count": 41,
   "id": "432e123d",
   "metadata": {
    "execution": {
     "iopub.execute_input": "2022-04-02T16:34:19.389984Z",
     "iopub.status.busy": "2022-04-02T16:34:19.389306Z",
     "iopub.status.idle": "2022-04-02T16:34:19.853132Z",
     "shell.execute_reply": "2022-04-02T16:34:19.853918Z",
     "shell.execute_reply.started": "2022-04-02T16:29:18.526883Z"
    },
    "papermill": {
     "duration": 0.551103,
     "end_time": "2022-04-02T16:34:19.854167",
     "exception": false,
     "start_time": "2022-04-02T16:34:19.303064",
     "status": "completed"
    },
    "tags": []
   },
   "outputs": [
    {
     "name": "stdout",
     "output_type": "stream",
     "text": [
      "Your submission was successfully saved!\n"
     ]
    }
   ],
   "source": [
    "X = scaled_train\n",
    "X_test = scaled_test\n",
    "\n",
    "best_model.fit(X, y)\n",
    "predictions = best_model.predict(X_test)\n",
    "\n",
    "output = pd.DataFrame({'PassengerId': test_data.PassengerId, 'Survived': predictions})\n",
    "output.to_csv('submission.csv', index=False)\n",
    "print(\"Your submission was successfully saved!\")"
   ]
  },
  {
   "cell_type": "code",
   "execution_count": null,
   "id": "0f2c77bf",
   "metadata": {
    "papermill": {
     "duration": 0.083541,
     "end_time": "2022-04-02T16:34:20.025852",
     "exception": false,
     "start_time": "2022-04-02T16:34:19.942311",
     "status": "completed"
    },
    "tags": []
   },
   "outputs": [],
   "source": []
  }
 ],
 "metadata": {
  "kernelspec": {
   "display_name": "Python 3",
   "language": "python",
   "name": "python3"
  },
  "language_info": {
   "codemirror_mode": {
    "name": "ipython",
    "version": 3
   },
   "file_extension": ".py",
   "mimetype": "text/x-python",
   "name": "python",
   "nbconvert_exporter": "python",
   "pygments_lexer": "ipython3",
   "version": "3.7.12"
  },
  "papermill": {
   "default_parameters": {},
   "duration": 223.999291,
   "end_time": "2022-04-02T16:34:21.222067",
   "environment_variables": {},
   "exception": null,
   "input_path": "__notebook__.ipynb",
   "output_path": "__notebook__.ipynb",
   "parameters": {},
   "start_time": "2022-04-02T16:30:37.222776",
   "version": "2.3.3"
  }
 },
 "nbformat": 4,
 "nbformat_minor": 5
}
